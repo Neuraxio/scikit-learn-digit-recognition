{
 "metadata": {
  "name": "",
  "signature": "sha256:f618001749561d75c402caa83ad6bd2922c10743412ad78283fa1e227920baec"
 },
 "nbformat": 3,
 "nbformat_minor": 0,
 "worksheets": [
  {
   "cells": [
    {
     "cell_type": "code",
     "collapsed": false,
     "input": [
      "# This work is much pimped from this example of scikit-learn's documentation: \n",
      "# http://scikit-learn.org/stable/auto_examples/neural_networks/plot_rbm_logistic_classification.html\n",
      "\"\"\"\n",
      "==============================================================\n",
      "Restricted Boltzmann Machine features for digit classification\n",
      "==============================================================\n",
      "\n",
      "For grayscale image data where pixel values can be interpreted as degrees of\n",
      "blackness on a white background, like handwritten digit recognition, the\n",
      "Bernoulli Restricted Boltzmann machine model can perform effective non-linear\n",
      "feature extraction.\n",
      "\n",
      "In order to learn good latent representations from a small dataset, we\n",
      "artificially generate more labeled data by perturbing the training data with\n",
      "linear shifts of 1 pixel in each direction. The same processing will be done\n",
      "when guessing an image's label. \n",
      "\n",
      "There is a classification pipeline with a BernoulliRBM\n",
      "feature extractor and a LogisticRegression classifier. The hyperparameters\n",
      "of the entire model (learning rate, hidden layer size, regularization)\n",
      "were optimized by grid search (cross validation), but the search has not been\n",
      "done with a big amount of parameters. \n",
      "\"\"\"\n",
      "\n",
      "from __future__ import print_function\n",
      "\n",
      "# print(__doc__)\n",
      "\n",
      "# Authors: Yann N. Dauphin, Vlad Niculae, Gabriel Synnaeve, Guillaume Chevalier\n",
      "# License: BSD\n",
      "\n",
      "import pickle\n",
      "import os.path\n",
      "import math \n",
      "import random\n",
      "\n",
      "import numpy as np\n",
      "import matplotlib.pyplot as plt\n",
      "import Image\n",
      "import scipy.ndimage\n",
      "\n",
      "from scipy.ndimage import convolve\n",
      "from sklearn import linear_model, datasets, metrics\n",
      "from sklearn.cross_validation import train_test_split\n",
      "from sklearn.neural_network import BernoulliRBM\n",
      "from sklearn.pipeline import Pipeline\n",
      "from sklearn.grid_search import GridSearchCV\n",
      "from sklearn.linear_model import LogisticRegression"
     ],
     "language": "python",
     "metadata": {},
     "outputs": [],
     "prompt_number": 1
    },
    {
     "cell_type": "code",
     "collapsed": false,
     "input": [
      "###############################################################################\n",
      "# Defining functions & misc.\n",
      "\n",
      "perceptron_width = 16  # Should be a multiple of 8. If changed, also edit the line at # TODO: replace \"2\"\n",
      "perceptron_count = perceptron_width * perceptron_width\n",
      "pickles_suffix = \"_{0}x{0}.pickle\".format(perceptron_width)\n",
      "\n",
      "hidden_layer_width = 32\n",
      "hidden_layer_count = hidden_layer_width * hidden_layer_width\n",
      "\n",
      "def nudge_dataset(X, Y):\n",
      "    \"\"\"\n",
      "    This produces a dataset 5 times bigger than the original one,\n",
      "    by moving the 8x8 images in X around by 1px to left, right, down, up\n",
      "    and keeping an original version of the images. \n",
      "    \"\"\"\n",
      "    direction_vectors = [\n",
      "        [[0, 1, 0],\n",
      "         [0, 0, 0],\n",
      "         [0, 0, 0]],\n",
      "\n",
      "        [[0, 0, 0],\n",
      "         [1, 0, 0],\n",
      "         [0, 0, 0]],\n",
      "\n",
      "        [[0, 0, 0],\n",
      "         [0, 0, 1],\n",
      "         [0, 0, 0]],\n",
      "\n",
      "        [[0, 0, 0],\n",
      "         [0, 0, 0],\n",
      "         [0, 1, 0]]]\n",
      "\n",
      "    shift = lambda x, w: convolve(x.reshape((perceptron_width, perceptron_width)), mode='constant',\n",
      "                                  weights=w).ravel()\n",
      "    X = np.concatenate([X] +\n",
      "                       [np.apply_along_axis(shift, 1, X, vector)\n",
      "                        for vector in direction_vectors])\n",
      "    Y = np.concatenate([Y for _ in range(5)], axis=0)\n",
      "    return X, Y\n",
      "\n",
      "def shuffle_dataset(X, Y):\n",
      "    \"\"\"\n",
      "    Shuffle two lists keeping their elements\n",
      "    associated: Xi == Yi. \n",
      "    \"\"\"\n",
      "    z = zip(X, Y)\n",
      "    random.shuffle(z)\n",
      "    return zip(*z)\n",
      "\n",
      "def resample_img(img, currentWidth=128, newWidth=perceptron_width):\n",
      "    \"\"\"\n",
      "    Changes the size of an image. \n",
      "    Yet, if the image needs to be scaled up, \n",
      "    the image will only enlarge by a factor of 2 by 2.\n",
      "    \"\"\"\n",
      "    inv_ratio = currentWidth/newWidth\n",
      "    if (inv_ratio < 1):\n",
      "        return scipy.ndimage.zoom(img, 2, order=1)  # TODO: replace \"2\" by int(1/inv_ratio)\n",
      "    else:\n",
      "        return img.reshape([newWidth, inv_ratio, newWidth, inv_ratio]).mean(3).mean(1)\n",
      "\n",
      "def scale_elements_values_from_0_to_1(arr):\n",
      "    \"\"\"\n",
      "    Scale any multidimensional array's items' values\n",
      "    from 0 to 1, keeping relative proportions. \n",
      "    Each item needs to be a number. \n",
      "    \"\"\"\n",
      "    amax = np.amax(arr)\n",
      "    amin = np.amin(arr)\n",
      "    arr = np.subtract(arr, amin)\n",
      "    P=1/(amax-amin)\n",
      "    arr = P*np.array(arr)\n",
      "    return arr\n",
      "\n",
      "def rectify(img, strong_rectification=True):\n",
      "    \"\"\"\n",
      "    Rectify from 0 to 1 each element of \n",
      "    any multidimensional array. \n",
      "    \n",
      "    If strong_rectification is set to true, \n",
      "    values will be rectified from 0.35 to 0.7, \n",
      "    and values equal to that will then be\n",
      "    remapped to 0 and 1. \n",
      "    \"\"\"\n",
      "    if (strong_rectification):\n",
      "        def rectify_f(pixel):\n",
      "            if (pixel <= 0.35):\n",
      "                pixel = 0.0\n",
      "            elif (pixel >= 0.7):\n",
      "                pixel = 1.0\n",
      "            return pixel\n",
      "    else:\n",
      "        def rectify_f(pixel):\n",
      "            if (pixel < 0.0):\n",
      "                pixel = 0.0\n",
      "            elif (pixel > 1.0):\n",
      "                pixel = 1.0\n",
      "            return pixel\n",
      "    rectify_f = np.vectorize(rectify_f)\n",
      "    \n",
      "    return rectify_f(img)\n",
      "\n",
      "def contrast(img, do_rectify=True):\n",
      "    \"\"\"\n",
      "    Apply a custom contrast filter to any multidimensional \n",
      "    array which elements' values range from 0 to 1. \n",
      "    \"\"\"\n",
      "    def contrast_f(pixel):\n",
      "        # Those values are set to fit my webcam\n",
      "        pixel = 1.4/math.pi*math.atan(4*(pixel-0.49))+0.5\n",
      "        if (pixel < 0.35):\n",
      "            pixel = 0.0\n",
      "        elif (pixel > 0.7):\n",
      "            pixel = 1.0\n",
      "        return pixel\n",
      "    contrast_f = np.vectorize(contrast_f)\n",
      "    \n",
      "    return rectify(contrast_f(img), do_rectify)\n",
      "    \n",
      "def grayscale_img(color_image, inverse=True, do_contrast=False):\n",
      "    \"\"\"\n",
      "    Convert an RGB image (3D array) to a\n",
      "    grayscale 2D array, which elements range\n",
      "    from 0 to 1. \n",
      "    \"\"\"\n",
      "    img = np.array(color_image)\n",
      "    \n",
      "    if (inverse):\n",
      "        def iavg(a):\n",
      "            return (255.0 - (np.average(a)))\n",
      "    else:\n",
      "        def iavg(a):\n",
      "            return (np.average(a))\n",
      "    \n",
      "    grayscale = np.zeros((img.shape[0], img.shape[1]))\n",
      "    for rownum in range(len(img)):\n",
      "        for colnum in range(len(img[rownum])):\n",
      "            grayscale[rownum][colnum] = iavg(img[rownum][colnum])\n",
      "\n",
      "    grayscale = scale_elements_values_from_0_to_1(grayscale)\n",
      "    \n",
      "    if (do_contrast):\n",
      "        grayscale = contrast(grayscale)\n",
      "    \n",
      "    return grayscale\n",
      "\n",
      "def load_grayscale_img(path=\"7.jpg\", currentWidth=8, wantedWidth=perceptron_width):\n",
      "    \"\"\"\n",
      "    Load an image to a grayscale 2D array with \n",
      "    elements' values ranging from 0 to 1. \n",
      "    \"\"\"\n",
      "    im = Image.open(path)\n",
      "    return resample_img(grayscale_img(im), currentWidth, newWidth=wantedWidth)\n",
      "\n",
      "def load_default_dataset():\n",
      "    \"\"\"\n",
      "    Fancy \"datasets.load_digits()\". Returns a list\n",
      "    of flat arrays (lists) representing grayscale images, and \n",
      "    their associated labels. \n",
      "    \"\"\"\n",
      "    images = []\n",
      "    labels = []\n",
      "    \n",
      "    pickle_path = \"dataset_pickles\\dflt_dataset{}\".format(pickles_suffix)\n",
      "    if (os.path.exists(pickle_path)):\n",
      "        with open(pickle_path) as f:\n",
      "            images, labels = pickle.load(f)\n",
      "    else:\n",
      "        digits_set = datasets.load_digits()\n",
      "        original_images = np.asarray(digits_set.data, 'float32')\n",
      "\n",
      "        if(perceptron_width != 8):  # Resampling if needed\n",
      "            xi=0\n",
      "            for x in original_images:\n",
      "                this_image = resample_img(x.reshape(8, 8), currentWidth=8, newWidth=perceptron_width).flatten()\n",
      "                images.append(this_image)\n",
      "                # TODO: REM\n",
      "                # print(x.reshape(8, 8))\n",
      "                # print(this_image.reshape(16, 16))\n",
      "                xi += 1\n",
      "        images = (images - np.min(images, 0)) / (np.max(images, 0) + 0.0001)  # 0-1 scaling\n",
      "        labels = digits_set.target\n",
      "        \n",
      "        with open(pickle_path, 'w') as f:\n",
      "            pickle.dump([images, labels], f)\n",
      "            print()\n",
      "    \n",
      "    return images, labels\n",
      "    \n",
      "def load_fnt_dataset():\n",
      "    \"\"\"\n",
      "    Loads the Chars74K's \"Fnt\" dataset. Returns a list\n",
      "    of flat arrays (lists) representing grayscale images, and \n",
      "    their associated labels. \n",
      "    Can be downloaded from: http://www.ee.surrey.ac.uk/CVSSP/demos/chars74k/\n",
      "    Direct download link: http://www.ee.surrey.ac.uk/CVSSP/demos/chars74k/EnglishFnt.tgz\n",
      "    TODO: CITE in http://scholar.google.co.uk/citations?hl=en&user=RzL_a1gAAAAJ&view_op=list_works\n",
      "    \"\"\"\n",
      "    images = []\n",
      "    labels = []\n",
      "    \n",
      "    for i in xrange(0+1, 1016+1):\n",
      "        for x in xrange(0+1, 9+1+1):    \n",
      "            folder_name = \"Sample{0:03d}\".format(x)\n",
      "            file_name_prefix = \"img{0:03d}-\".format(x)\n",
      "        \n",
      "            file_name = \"{0}{1:05d}.png\".format(file_name_prefix, i)\n",
      "            img_path=\"fnt_dataset\\{}\\{}\".format(folder_name, file_name)\n",
      "            \n",
      "            pickle_file_name = \"{}{}\".format(file_name[0:-4], pickles_suffix)\n",
      "            pickle_path = \"dataset_pickles\\{}\".format(pickle_file_name)\n",
      "            \n",
      "            if (os.path.exists(pickle_path)):\n",
      "                with open(pickle_path) as f:\n",
      "                    this_data_img, this_target_label = pickle.load(f)\n",
      "            else:\n",
      "                this_data_img = load_grayscale_img(path=img_path, currentWidth=128, wantedWidth=perceptron_width).flatten()\n",
      "                this_target_label = x-1\n",
      "                with open(pickle_path, 'w') as f:\n",
      "                    pickle.dump([this_data_img, this_target_label], f)\n",
      "            \n",
      "            images.append(this_data_img)\n",
      "            labels.append(this_target_label)\n",
      "            \n",
      "    return images, labels\n",
      "\n",
      "def nudge_image(grayscale_img, displacement_width=3):\n",
      "    \"\"\"\n",
      "    This returns a list of images, where each images is  \n",
      "    the original one translated by a range of \n",
      "    \"(displacement_width - 1)/2\" in +/- X and Y from the \n",
      "    center.\n",
      "    A count of \"displacement_width * displacement_width\"\n",
      "    images are yielded. \n",
      "    \"\"\"\n",
      "    if (displacement_width % 2 == 1):\n",
      "        displacement_width += 1  # Must be uneven to have a center\n",
      "    imgs = [grayscale_img]\n",
      "    \n",
      "    # Creating some displacement vectors, origin is at center of matrixes. \n",
      "    direction_vectors = []\n",
      "    for i in xrange(displacement_width):\n",
      "        for j in xrange(displacement_width):\n",
      "            direction_matrix = np.zeros((displacement_width, displacement_width))\n",
      "            direction_matrix[i][j] = 1\n",
      "            direction_vectors.append(direction_matrix)\n",
      "\n",
      "    shift = lambda x, w: convolve(x.reshape((perceptron_width, perceptron_width)), mode='constant',\n",
      "                                  weights=w).ravel()\n",
      "    return np.concatenate([np.apply_along_axis(shift, 1, imgs, vector)\n",
      "                        for vector in direction_vectors])\n",
      "\n",
      "def predict_2D_image(img, classifier, show_plot=False):\n",
      "    \"\"\"\n",
      "    Predict and (optionnaly) show an image\n",
      "    from a trained scikit-learn classifier. \n",
      "    \"\"\"\n",
      "    \n",
      "    def max_pooling_prediction(grayscale_img, classifier):\n",
      "        imgs = nudge_image(grayscale_img)\n",
      "\n",
      "        def get_confidences_and_prediction(img, classifier):\n",
      "            \"\"\"\n",
      "            Returns the best confidence, the other confidences\n",
      "            and the prection from the best confidence. \n",
      "            \"\"\"\n",
      "            prediction = classifier.predict(img.flatten())[0]\n",
      "            decision_function_vals = classifier.predict_log_proba(img.flatten())[0]\n",
      "            confidence = np.amax(decision_function_vals)\n",
      "            assert prediction == np.argmax(decision_function_vals), (\n",
      "                \"Is not the prediction supposed to take the most confident label association?\")\n",
      "            return confidence, decision_function_vals, prediction\n",
      "\n",
      "        parallel_confidences = []\n",
      "        parallel_decision_function_vals = []\n",
      "        parallel_predictions = []\n",
      "\n",
      "        for img in imgs:\n",
      "            tmp = get_confidences_and_prediction(img, classifier)\n",
      "            parallel_confidences.append(tmp[0])\n",
      "            parallel_decision_function_vals.append(tmp[1])\n",
      "            parallel_predictions.append(tmp[2])\n",
      "\n",
      "        best_nudged_index = np.argmax(parallel_confidences)\n",
      "        prediction = parallel_predictions[best_nudged_index]\n",
      "        decision_function_vals = parallel_decision_function_vals[best_nudged_index]\n",
      "        best_nudged_img = imgs[best_nudged_index].reshape(perceptron_width, perceptron_width)\n",
      "\n",
      "        return (prediction, decision_function_vals, best_nudged_img)\n",
      "    \n",
      "    #TODO:\n",
      "    # prediction, decision_function_vals, img = max_pooling_prediction(img.flatten(), classifier)\n",
      "    prediction = classifier.predict(img.flatten())[0]\n",
      "    \n",
      "    if (show_plot):\n",
      "        bars_width = 0.8\n",
      "        #TODO:\n",
      "        # decision_function_vals = classifier.decision_function(img.flatten())[0]\n",
      "        decision_function_vals = classifier.decision_function(img.flatten())[0]\n",
      "        \n",
      "        confidence_labels = range(len(decision_function_vals))\n",
      "        confidence_labels_pos = np.arange(bars_width/2, len(decision_function_vals)+bars_width/2, 1)\n",
      "        \n",
      "        plt.subplots_adjust(hspace=0.5)\n",
      "        \n",
      "        ax1 = plt.subplot(2, 1, 1)\n",
      "        ax1.imshow(img, cmap=plt.cm.gray_r,\n",
      "            interpolation='nearest')\n",
      "        ax1.set_title(\"Predicted value: {}\".format(prediction), fontsize=22)\n",
      "\n",
      "        ax2 = plt.subplot(2, 1, 2)\n",
      "        ax2.bar(confidence_labels, decision_function_vals, bars_width)\n",
      "        # plt.suptitle('Confidence decision function for each label')\n",
      "        ax2.set_title('Confidence decision function for each label', fontsize=22)\n",
      "        plt.ylabel('Confidence')\n",
      "        plt.xlabel('Label')\n",
      "        ax2.plot([0, 10], [0, 0], 'k-', lw=2)\n",
      "\n",
      "        ax2.set_xticks(confidence_labels_pos)\n",
      "        ax2.set_xticklabels(confidence_labels)\n",
      "        \n",
      "        plt.show()\n",
      "        \n",
      "        # #TODO: \n",
      "        # img_transformed = rbm.transform(img.flatten())\n",
      "        # img_transformed = img_transformed.reshape(hidden_layer_width, hidden_layer_width)\n",
      "        \n",
      "        # plt.imshow(img_transformed, cmap=plt.cm.gray_r,\n",
      "        #     interpolation='nearest')\n",
      "        # plt.show()\n",
      "    return prediction\n"
     ],
     "language": "python",
     "metadata": {},
     "outputs": [],
     "prompt_number": 2
    },
    {
     "cell_type": "code",
     "collapsed": false,
     "input": [
      "###############################################################################\n",
      "# Load Data\n",
      "\n",
      "datasets_path = 'dataset_pickles\\\\datasets{}'.format(pickles_suffix)\n",
      "if (os.path.exists(datasets_path)):\n",
      "    with open(datasets_path) as f:\n",
      "        X, Y = pickle.load(f)\n",
      "    \n",
      "else: \n",
      "    print(\"Loading default dataset...\")\n",
      "    x_dflt, y_dflt = load_default_dataset()\n",
      "    \n",
      "    print(\"Loading fnt dataset...\")\n",
      "    x_fnt, y_fnt = load_fnt_dataset()\n",
      "\n",
      "    print(\"Appending datasets...\")\n",
      "    X, Y = np.append(x_dflt, x_fnt, axis=0), np.append(y_dflt, y_fnt, axis=0)\n",
      "\n",
      "    # Saving the objects:\n",
      "    with open(datasets_path, 'w') as f:\n",
      "        pickle.dump([X, Y], f)\n",
      "\n",
      "print(\"train_test_split...\")\n",
      "X_train, X_test, Y_train, Y_test = train_test_split(X, Y,\n",
      "                                                    test_size=0.15,\n",
      "                                                    random_state=42)\n",
      "\n",
      "# Increase and noise training data, but not testing data\n",
      "X_train, Y_train = nudge_dataset(X_train, Y_train) \n",
      "\n",
      "print(\"Setup Done:\")\n",
      "print(\"Total images: {}\".format(len(X)))\n",
      "print(\"Total training images: {}\".format(len(X_train)))\n",
      "print(\"Total testing images: {}\".format(len(X_test)))"
     ],
     "language": "python",
     "metadata": {},
     "outputs": [
      {
       "output_type": "stream",
       "stream": "stdout",
       "text": [
        "train_test_split...\n",
        "Setup Done:"
       ]
      },
      {
       "output_type": "stream",
       "stream": "stdout",
       "text": [
        "\n",
        "Total images: 11957\n",
        "Total training images: 50815\n",
        "Total testing images: 1794\n"
       ]
      }
     ],
     "prompt_number": 3
    },
    {
     "cell_type": "code",
     "collapsed": false,
     "input": [
      "###############################################################################\n",
      "# Cross validation (CV) to find hyper-parameters\n",
      "\n",
      "# The Cross Validation technique used is inspired from: \n",
      "# http://www.pyimagesearch.com/2014/06/23/applying-deep-learning-rbm-mnist-using-python/\n",
      "\n",
      "# If a CV has already been done with the actual \"hidden_layer_count\" variable.\n",
      "CV_already_done = True\n",
      "\n",
      "if (not CV_already_done):\n",
      "    # initialize the RBM + Logistic Regression pipeline\n",
      "    rbm = BernoulliRBM(random_state=1, verbose=True)\n",
      "    logistic = LogisticRegression()\n",
      "    classifier = Pipeline(steps=[('rbm', rbm), ('logistic', logistic)])\n",
      "\n",
      "    # perform a grid search on the learning rate, number of\n",
      "    # iterations, and number of components on the RBM and\n",
      "    # C for Logistic Regression\n",
      "    print(\"SEARCHING RBM AND LOGISTIC REGRESSION'S HYPER-PARAMETERS\")\n",
      "    # The following params already have been edited manually \n",
      "    # to then wiggle between these remaining values. \n",
      "    params = {\n",
      "    \"rbm__learning_rate\": [0.005, 0.007, 0.008],\n",
      "    \"rbm__n_iter\": [45],  #TODO: WAS 45 !!!\n",
      "    \"rbm__n_components\": [hidden_layer_count],\n",
      "    \"logistic__C\": [1000.0]}\n",
      "\n",
      "    # perform a grid search over the parameter\n",
      "    gs = GridSearchCV(classifier, params, n_jobs = -1, verbose = 1, cv=2)\n",
      "    gs.fit(X_train, Y_train)\n",
      "\n",
      "    # print diagnostic information to the user and grab the\n",
      "    # best model\n",
      "    print(\"best score: %0.3f\" % (gs.best_score_))\n",
      "    print(\"RBM + LOGISTIC REGRESSION'S HYPER-PARAMETERS\")\n",
      "    \n",
      "    CV_result = gs.best_estimator_.get_params()\n",
      "    \n",
      "else : \n",
      "    # CV Results from a hidden_layer_count = 15. \n",
      "    CV_result = {\n",
      "        'logistic__penalty': 'l2',\n",
      "        'rbm__verbose': True,\n",
      "        'logistic__tol': 0.0001,\n",
      "        'logistic__dual': False,\n",
      "        'logistic__fit_intercept': True,\n",
      "        'rbm': BernoulliRBM(batch_size = 10, learning_rate = 0.007, n_components = hidden_layer_count, n_iter = 45,\n",
      "            random_state = 1, verbose = True),\n",
      "        'rbm__n_iter': 45,\n",
      "        'rbm__learning_rate': 0.007,\n",
      "        'logistic__class_weight': None,\n",
      "        'logistic': LogisticRegression(C = 1000.0, class_weight = None, dual = False,\n",
      "            fit_intercept = True, intercept_scaling = 1, penalty = 'l2',\n",
      "            random_state = None, tol = 0.0001),\n",
      "        'rbm__n_components': hidden_layer_count,\n",
      "        'logistic__C': 1000.0,\n",
      "        'logistic__random_state': None,\n",
      "        'rbm__batch_size': 10,\n",
      "        'rbm__random_state': 1,\n",
      "        'logistic__intercept_scaling': 1\n",
      "    }\n",
      "\n",
      "print(CV_result[\"rbm\"])\n",
      "print(CV_result[\"logistic\"])\n",
      "print(CV_result)\n"
     ],
     "language": "python",
     "metadata": {},
     "outputs": [
      {
       "output_type": "stream",
       "stream": "stdout",
       "text": [
        "BernoulliRBM(batch_size=10, learning_rate=0.007, n_components=1024, n_iter=45,\n",
        "       random_state=1, verbose=True)\n",
        "LogisticRegression(C=1000.0, class_weight=None, dual=False,\n",
        "          fit_intercept=True, intercept_scaling=1, penalty='l2',\n",
        "          random_state=None, tol=0.0001)\n",
        "{'logistic': LogisticRegression(C=1000.0, class_weight=None, dual=False,\n",
        "          fit_intercept=True, intercept_scaling=1, penalty='l2',\n",
        "          random_state=None, tol=0.0001), 'rbm__verbose': True, 'logistic__tol': 0.0001, 'logistic__dual': False, 'logistic__fit_intercept': True, 'rbm': BernoulliRBM(batch_size=10, learning_rate=0.007, n_components=1024, n_iter=45,\n",
        "       random_state=1, verbose=True), 'rbm__n_iter': 45, 'rbm__learning_rate': 0.007, 'logistic__class_weight': None, 'logistic__penalty': 'l2', 'rbm__n_components': 1024, 'logistic__C': 1000.0, 'logistic__random_state': None, 'rbm__batch_size': 10, 'rbm__random_state': 1, 'logistic__intercept_scaling': 1}\n"
       ]
      }
     ],
     "prompt_number": 4
    },
    {
     "cell_type": "code",
     "collapsed": false,
     "input": [
      "###############################################################################\n",
      "# Training from CV result parameters and evaluation. \n",
      "\n",
      "RBM_classifier_path = 'RBM_classifier_{}_{}{}'.format(\n",
      "    hidden_layer_count, CV_result[\"rbm\"].n_iter, pickles_suffix)\n",
      "\n",
      "if (os.path.exists(RBM_classifier_path)):\n",
      "    with open(RBM_classifier_path) as f:\n",
      "        rbm, logistic, classifier, metrics_results = pickle.load(f)\n",
      "else: \n",
      "    rbm = CV_result[\"rbm\"]\n",
      "    logistic = CV_result[\"logistic\"]\n",
      "    classifier = Pipeline(steps=[('rbm', rbm), ('logistic', logistic)])\n",
      "\n",
      "    # Training RBM-Logistic Pipeline\n",
      "    classifier.fit(X_train, Y_train)\n",
      "    \n",
      "    # Evaluation\n",
      "    metrics_results = metrics.classification_report(\n",
      "            Y_test,\n",
      "            classifier.predict(X_test))\n",
      "\n",
      "    # Saving the objects:\n",
      "    with open(RBM_classifier_path, 'w') as f:\n",
      "        pickle.dump([rbm, logistic, classifier, metrics_results], f)\n",
      "\n",
      "print()\n",
      "print(\"Logistic regression using RBM features:\\n{}\\n\".format(\n",
      "    metrics_results))\n"
     ],
     "language": "python",
     "metadata": {},
     "outputs": [
      {
       "output_type": "stream",
       "stream": "stdout",
       "text": [
        "[BernoulliRBM] Iteration 1, pseudo-likelihood = -67.97, time = 50.40s\n",
        "[BernoulliRBM] Iteration 2, pseudo-likelihood = -60.06, time = 62.42s"
       ]
      },
      {
       "output_type": "stream",
       "stream": "stdout",
       "text": [
        "\n",
        "[BernoulliRBM] Iteration 3, pseudo-likelihood = -56.22, time = 59.01s"
       ]
      },
      {
       "output_type": "stream",
       "stream": "stdout",
       "text": [
        "\n",
        "[BernoulliRBM] Iteration 4, pseudo-likelihood = -54.08, time = 56.35s"
       ]
      },
      {
       "output_type": "stream",
       "stream": "stdout",
       "text": [
        "\n",
        "[BernoulliRBM] Iteration 5, pseudo-likelihood = -52.24, time = 55.00s"
       ]
      },
      {
       "output_type": "stream",
       "stream": "stdout",
       "text": [
        "\n",
        "[BernoulliRBM] Iteration 6, pseudo-likelihood = -51.33, time = 55.29s"
       ]
      },
      {
       "output_type": "stream",
       "stream": "stdout",
       "text": [
        "\n",
        "[BernoulliRBM] Iteration 7, pseudo-likelihood = -50.60, time = 55.08s"
       ]
      },
      {
       "output_type": "stream",
       "stream": "stdout",
       "text": [
        "\n",
        "[BernoulliRBM] Iteration 8, pseudo-likelihood = -49.76, time = 55.15s"
       ]
      },
      {
       "output_type": "stream",
       "stream": "stdout",
       "text": [
        "\n",
        "[BernoulliRBM] Iteration 9, pseudo-likelihood = -49.19, time = 54.83s"
       ]
      },
      {
       "output_type": "stream",
       "stream": "stdout",
       "text": [
        "\n",
        "[BernoulliRBM] Iteration 10, pseudo-likelihood = -48.48, time = 55.02s"
       ]
      },
      {
       "output_type": "stream",
       "stream": "stdout",
       "text": [
        "\n",
        "[BernoulliRBM] Iteration 11, pseudo-likelihood = -48.21, time = 58.69s"
       ]
      },
      {
       "output_type": "stream",
       "stream": "stdout",
       "text": [
        "\n",
        "[BernoulliRBM] Iteration 12, pseudo-likelihood = -47.76, time = 54.66s"
       ]
      },
      {
       "output_type": "stream",
       "stream": "stdout",
       "text": [
        "\n",
        "[BernoulliRBM] Iteration 13, pseudo-likelihood = -47.28, time = 55.50s"
       ]
      },
      {
       "output_type": "stream",
       "stream": "stdout",
       "text": [
        "\n",
        "[BernoulliRBM] Iteration 14, pseudo-likelihood = -46.53, time = 54.55s"
       ]
      },
      {
       "output_type": "stream",
       "stream": "stdout",
       "text": [
        "\n",
        "[BernoulliRBM] Iteration 15, pseudo-likelihood = -46.27, time = 56.10s"
       ]
      },
      {
       "output_type": "stream",
       "stream": "stdout",
       "text": [
        "\n",
        "[BernoulliRBM] Iteration 16, pseudo-likelihood = -46.47, time = 56.01s"
       ]
      },
      {
       "output_type": "stream",
       "stream": "stdout",
       "text": [
        "\n",
        "[BernoulliRBM] Iteration 17, pseudo-likelihood = -46.02, time = 58.99s"
       ]
      },
      {
       "output_type": "stream",
       "stream": "stdout",
       "text": [
        "\n",
        "[BernoulliRBM] Iteration 18, pseudo-likelihood = -44.99, time = 57.78s"
       ]
      },
      {
       "output_type": "stream",
       "stream": "stdout",
       "text": [
        "\n",
        "[BernoulliRBM] Iteration 19, pseudo-likelihood = -45.40, time = 60.25s"
       ]
      },
      {
       "output_type": "stream",
       "stream": "stdout",
       "text": [
        "\n",
        "[BernoulliRBM] Iteration 20, pseudo-likelihood = -45.52, time = 54.97s"
       ]
      },
      {
       "output_type": "stream",
       "stream": "stdout",
       "text": [
        "\n",
        "[BernoulliRBM] Iteration 21, pseudo-likelihood = -44.50, time = 53.14s"
       ]
      },
      {
       "output_type": "stream",
       "stream": "stdout",
       "text": [
        "\n",
        "[BernoulliRBM] Iteration 22, pseudo-likelihood = -44.57, time = 55.06s"
       ]
      },
      {
       "output_type": "stream",
       "stream": "stdout",
       "text": [
        "\n",
        "[BernoulliRBM] Iteration 23, pseudo-likelihood = -44.09, time = 53.05s"
       ]
      },
      {
       "output_type": "stream",
       "stream": "stdout",
       "text": [
        "\n",
        "[BernoulliRBM] Iteration 24, pseudo-likelihood = -44.57, time = 52.76s"
       ]
      },
      {
       "output_type": "stream",
       "stream": "stdout",
       "text": [
        "\n",
        "[BernoulliRBM] Iteration 25, pseudo-likelihood = -43.90, time = 53.00s"
       ]
      },
      {
       "output_type": "stream",
       "stream": "stdout",
       "text": [
        "\n",
        "[BernoulliRBM] Iteration 26, pseudo-likelihood = -43.82, time = 52.62s"
       ]
      },
      {
       "output_type": "stream",
       "stream": "stdout",
       "text": [
        "\n",
        "[BernoulliRBM] Iteration 27, pseudo-likelihood = -44.11, time = 75.09s"
       ]
      },
      {
       "output_type": "stream",
       "stream": "stdout",
       "text": [
        "\n",
        "[BernoulliRBM] Iteration 28, pseudo-likelihood = -43.86, time = 61.96s"
       ]
      },
      {
       "output_type": "stream",
       "stream": "stdout",
       "text": [
        "\n",
        "[BernoulliRBM] Iteration 29, pseudo-likelihood = -43.54, time = 61.23s"
       ]
      },
      {
       "output_type": "stream",
       "stream": "stdout",
       "text": [
        "\n",
        "[BernoulliRBM] Iteration 30, pseudo-likelihood = -43.94, time = 62.58s"
       ]
      },
      {
       "output_type": "stream",
       "stream": "stdout",
       "text": [
        "\n",
        "[BernoulliRBM] Iteration 31, pseudo-likelihood = -43.57, time = 65.92s"
       ]
      },
      {
       "output_type": "stream",
       "stream": "stdout",
       "text": [
        "\n",
        "[BernoulliRBM] Iteration 32, pseudo-likelihood = -43.25, time = 54.86s"
       ]
      },
      {
       "output_type": "stream",
       "stream": "stdout",
       "text": [
        "\n",
        "[BernoulliRBM] Iteration 33, pseudo-likelihood = -43.10, time = 57.91s"
       ]
      },
      {
       "output_type": "stream",
       "stream": "stdout",
       "text": [
        "\n",
        "[BernoulliRBM] Iteration 34, pseudo-likelihood = -42.47, time = 54.27s"
       ]
      },
      {
       "output_type": "stream",
       "stream": "stdout",
       "text": [
        "\n",
        "[BernoulliRBM] Iteration 35, pseudo-likelihood = -43.44, time = 53.13s"
       ]
      },
      {
       "output_type": "stream",
       "stream": "stdout",
       "text": [
        "\n",
        "[BernoulliRBM] Iteration 36, pseudo-likelihood = -43.10, time = 59.19s"
       ]
      },
      {
       "output_type": "stream",
       "stream": "stdout",
       "text": [
        "\n",
        "[BernoulliRBM] Iteration 37, pseudo-likelihood = -42.82, time = 61.21s"
       ]
      },
      {
       "output_type": "stream",
       "stream": "stdout",
       "text": [
        "\n",
        "[BernoulliRBM] Iteration 38, pseudo-likelihood = -43.01, time = 59.59s"
       ]
      },
      {
       "output_type": "stream",
       "stream": "stdout",
       "text": [
        "\n",
        "[BernoulliRBM] Iteration 39, pseudo-likelihood = -43.02, time = 58.39s"
       ]
      },
      {
       "output_type": "stream",
       "stream": "stdout",
       "text": [
        "\n",
        "[BernoulliRBM] Iteration 40, pseudo-likelihood = -42.76, time = 57.00s"
       ]
      },
      {
       "output_type": "stream",
       "stream": "stdout",
       "text": [
        "\n",
        "[BernoulliRBM] Iteration 41, pseudo-likelihood = -42.63, time = 62.54s"
       ]
      },
      {
       "output_type": "stream",
       "stream": "stdout",
       "text": [
        "\n",
        "[BernoulliRBM] Iteration 42, pseudo-likelihood = -42.62, time = 57.88s"
       ]
      },
      {
       "output_type": "stream",
       "stream": "stdout",
       "text": [
        "\n",
        "[BernoulliRBM] Iteration 43, pseudo-likelihood = -42.78, time = 58.29s"
       ]
      },
      {
       "output_type": "stream",
       "stream": "stdout",
       "text": [
        "\n",
        "[BernoulliRBM] Iteration 44, pseudo-likelihood = -42.66, time = 58.26s"
       ]
      },
      {
       "output_type": "stream",
       "stream": "stdout",
       "text": [
        "\n",
        "[BernoulliRBM] Iteration 45, pseudo-likelihood = -42.67, time = 57.11s"
       ]
      },
      {
       "output_type": "stream",
       "stream": "stdout",
       "text": [
        "\n",
        "\n"
       ]
      },
      {
       "output_type": "stream",
       "stream": "stdout",
       "text": [
        "Logistic regression using RBM features:\n",
        "             precision    recall  f1-score   support\n",
        "\n",
        "          0       0.99      0.99      0.99       174\n",
        "          1       0.98      0.97      0.97       180\n",
        "          2       1.00      0.99      1.00       192\n",
        "          3       0.99      0.99      0.99       188\n",
        "          4       1.00      1.00      1.00       173\n",
        "          5       0.99      0.99      0.99       188\n",
        "          6       0.97      0.99      0.98       155\n",
        "          7       1.00      1.00      1.00       205\n",
        "          8       0.96      0.95      0.96       168\n",
        "          9       0.97      0.98      0.97       171\n",
        "\n",
        "avg / total       0.99      0.99      0.99      1794\n",
        "\n",
        "\n"
       ]
      }
     ],
     "prompt_number": 5
    },
    {
     "cell_type": "code",
     "collapsed": false,
     "input": [
      "###############################################################################\n",
      "# Predicting from machine's vision\n",
      "\n",
      "import time\n",
      "import sys\n",
      "import threading\n",
      "import multiprocessing\n",
      "import thread\n",
      "import cv2\n",
      "\n",
      "from threading import Thread\n",
      "\n",
      "process_next_image = True\n",
      "\n",
      "def convert_image_frame(local_img_frame):\n",
      "    reshaped_img = grayscale_img(local_img_frame, inverse=True, do_contrast=True)\n",
      "    reshaped_img = reshaped_img.reshape(\n",
      "        [perceptron_width, reshaped_img.shape[0]/perceptron_width, perceptron_width, reshaped_img.shape[1]/perceptron_width]\n",
      "        ).mean(3).mean(1)\n",
      "    return reshaped_img\n",
      "\n",
      "def grayscale_image_and_predict(frame):\n",
      "    global process_next_image\n",
      "    \n",
      "    local_img = convert_image_frame(frame)\n",
      "    prediction = predict_2D_image(\n",
      "        local_img, \n",
      "        classifier, \n",
      "        show_plot=True\n",
      "        )\n",
      "    process_next_image=True\n",
      "    \n",
      "cv2.namedWindow('Normal view, press ESC to exit')\n",
      "vc = cv2.VideoCapture(0)\n",
      "\n",
      "if vc.isOpened():  # try to get the first frame\n",
      "    rval, frame = vc.read()\n",
      "else:\n",
      "    rval = False\n",
      "\n",
      "while rval:\n",
      "    cv2.imshow(\"Normal view, press ESC to exit\", frame)\n",
      "    \n",
      "    time.sleep(0.15)  # Delay \n",
      "    \n",
      "    rval, frame = vc.read()\n",
      "    \n",
      "    if (process_next_image):\n",
      "        process_next_image = False\n",
      "        threaded_func = Thread(\n",
      "            target=grayscale_image_and_predict, \n",
      "            args=([frame])\n",
      "            ).start()\n",
      "    \n",
      "    key = cv2.waitKey(20)\n",
      "    if key == 27: # exit on ESC\n",
      "        #TODO: join threads and stop. \n",
      "        break\n",
      "\n",
      "# Free camera resources\n",
      "#TODO: try/except this\n",
      "cv2.destroyWindow(\"Normal view, press ESC to exit\")\n",
      "del vc\n",
      "\n",
      "print(\"Done.\")"
     ],
     "language": "python",
     "metadata": {},
     "outputs": [
      {
       "output_type": "stream",
       "stream": "stdout",
       "text": [
        "Done.\n"
       ]
      }
     ],
     "prompt_number": 6
    },
    {
     "cell_type": "code",
     "collapsed": false,
     "input": [
      "raise Exception(\"Done.\")"
     ],
     "language": "python",
     "metadata": {},
     "outputs": [
      {
       "ename": "Exception",
       "evalue": "Done.",
       "output_type": "pyerr",
       "traceback": [
        "\u001b[1;31m---------------------------------------------------------------------------\u001b[0m\n\u001b[1;31mException\u001b[0m                                 Traceback (most recent call last)",
        "\u001b[1;32m<ipython-input-7-bd8e67023fca>\u001b[0m in \u001b[0;36m<module>\u001b[1;34m()\u001b[0m\n\u001b[1;32m----> 1\u001b[1;33m \u001b[1;32mraise\u001b[0m \u001b[0mException\u001b[0m\u001b[1;33m(\u001b[0m\u001b[1;34m\"Done.\"\u001b[0m\u001b[1;33m)\u001b[0m\u001b[1;33m\u001b[0m\u001b[0m\n\u001b[0m",
        "\u001b[1;31mException\u001b[0m: Done."
       ]
      }
     ],
     "prompt_number": 7
    },
    {
     "cell_type": "code",
     "collapsed": false,
     "input": [
      "###############################################################################\n",
      "# Predictions of images outside trained datasets\n",
      "\n",
      "show_plots = True\n",
      "\n",
      "imgs = []\n",
      "#TODO:  currentWidth= NONE !!!! rem from \"def load_grayscale... \"\n",
      "imgs.append(load_grayscale_img(path=\"more_test_datas\\\\2.jpg\", currentWidth=8, wantedWidth=perceptron_width))\n",
      "imgs.append(load_grayscale_img(path=\"more_test_datas\\\\2_2.jpg\", currentWidth=16, wantedWidth=perceptron_width))\n",
      "imgs.append(load_grayscale_img(path=\"more_test_datas\\\\2_3.jpg\", currentWidth=16, wantedWidth=perceptron_width))\n",
      "imgs.append(load_grayscale_img(path=\"more_test_datas\\\\3.jpg\", currentWidth=16, wantedWidth=perceptron_width))\n",
      "imgs.append(load_grayscale_img(path=\"more_test_datas\\\\3_1.jpg\", currentWidth=16, wantedWidth=perceptron_width))\n",
      "imgs.append(load_grayscale_img(path=\"more_test_datas\\\\3_2.jpg\", currentWidth=16, wantedWidth=perceptron_width))\n",
      "imgs.append(load_grayscale_img(path=\"more_test_datas\\\\7.jpg\", currentWidth=8, wantedWidth=perceptron_width))\n",
      "imgs.append(load_grayscale_img(path=\"more_test_datas\\\\7_1.jpg\", currentWidth=16, wantedWidth=perceptron_width))\n",
      "imgs.append(load_grayscale_img(path=\"more_test_datas\\\\7_2.jpg\", currentWidth=16, wantedWidth=perceptron_width))\n",
      "imgs.append(load_grayscale_img(path=\"more_test_datas\\\\9.jpg\", currentWidth=16, wantedWidth=perceptron_width))\n",
      "# imgs.append(X_test[1001])\n",
      "# imgs.append(X_test[2020])\n",
      "# imgs.append(X_test[3004])\n",
      "# imgs.append(X_test[4005])\n",
      "# imgs.append(X_test[5009])\n",
      "\n",
      "for img in imgs:\n",
      "    predicted_num = predict_2D_image(\n",
      "        img, \n",
      "        classifier, \n",
      "        show_plot=show_plots\n",
      "        )\n",
      "    print(predicted_num, np.argmax(classifier.predict_log_proba([img.flatten()])))\n",
      "\n",
      "    "
     ],
     "language": "python",
     "metadata": {},
     "outputs": [
      {
       "ename": "PyAssertionError",
       "evalue": "C++ assertion \"wxThread::IsMain()\" failed at ..\\..\\src\\msw\\evtloop.cpp(244) in wxEventLoop::Dispatch(): only the main thread can process Windows messages",
       "output_type": "pyerr",
       "traceback": [
        "\u001b[1;31m---------------------------------------------------------------------------\u001b[0m\n\u001b[1;31mPyAssertionError\u001b[0m                          Traceback (most recent call last)",
        "\u001b[1;32mC:\\Users\\Guillaume\\AppData\\Local\\Enthought\\Canopy\\User\\lib\\site-packages\\matplotlib\\backends\\backend_wx.pyc\u001b[0m in \u001b[0;36m_onClose\u001b[1;34m(self, evt)\u001b[0m\n\u001b[0;32m   1379\u001b[0m         \u001b[0mself\u001b[0m\u001b[1;33m.\u001b[0m\u001b[0mcanvas\u001b[0m\u001b[1;33m.\u001b[0m\u001b[0mclose_event\u001b[0m\u001b[1;33m(\u001b[0m\u001b[1;33m)\u001b[0m\u001b[1;33m\u001b[0m\u001b[0m\n\u001b[0;32m   1380\u001b[0m         \u001b[0mself\u001b[0m\u001b[1;33m.\u001b[0m\u001b[0mcanvas\u001b[0m\u001b[1;33m.\u001b[0m\u001b[0mstop_event_loop\u001b[0m\u001b[1;33m(\u001b[0m\u001b[1;33m)\u001b[0m\u001b[1;33m\u001b[0m\u001b[0m\n\u001b[1;32m-> 1381\u001b[1;33m         \u001b[0mGcf\u001b[0m\u001b[1;33m.\u001b[0m\u001b[0mdestroy\u001b[0m\u001b[1;33m(\u001b[0m\u001b[0mself\u001b[0m\u001b[1;33m.\u001b[0m\u001b[0mnum\u001b[0m\u001b[1;33m)\u001b[0m\u001b[1;33m\u001b[0m\u001b[0m\n\u001b[0m\u001b[0;32m   1382\u001b[0m         \u001b[1;31m#self.Destroy()\u001b[0m\u001b[1;33m\u001b[0m\u001b[1;33m\u001b[0m\u001b[0m\n\u001b[0;32m   1383\u001b[0m \u001b[1;33m\u001b[0m\u001b[0m\n",
        "\u001b[1;32mC:\\Users\\Guillaume\\AppData\\Local\\Enthought\\Canopy\\User\\lib\\site-packages\\matplotlib\\_pylab_helpers.pyc\u001b[0m in \u001b[0;36mdestroy\u001b[1;34m(num)\u001b[0m\n\u001b[0;32m     69\u001b[0m         \u001b[1;32mdel\u001b[0m \u001b[0mGcf\u001b[0m\u001b[1;33m.\u001b[0m\u001b[0mfigs\u001b[0m\u001b[1;33m[\u001b[0m\u001b[0mnum\u001b[0m\u001b[1;33m]\u001b[0m\u001b[1;33m\u001b[0m\u001b[0m\n\u001b[0;32m     70\u001b[0m         \u001b[1;31m#print len(Gcf.figs.keys()), len(Gcf._activeQue)\u001b[0m\u001b[1;33m\u001b[0m\u001b[1;33m\u001b[0m\u001b[0m\n\u001b[1;32m---> 71\u001b[1;33m         \u001b[0mmanager\u001b[0m\u001b[1;33m.\u001b[0m\u001b[0mdestroy\u001b[0m\u001b[1;33m(\u001b[0m\u001b[1;33m)\u001b[0m\u001b[1;33m\u001b[0m\u001b[0m\n\u001b[0m\u001b[0;32m     72\u001b[0m         \u001b[0mgc\u001b[0m\u001b[1;33m.\u001b[0m\u001b[0mcollect\u001b[0m\u001b[1;33m(\u001b[0m\u001b[1;36m1\u001b[0m\u001b[1;33m)\u001b[0m\u001b[1;33m\u001b[0m\u001b[0m\n\u001b[0;32m     73\u001b[0m \u001b[1;33m\u001b[0m\u001b[0m\n",
        "\u001b[1;32mC:\\Users\\Guillaume\\AppData\\Local\\Enthought\\Canopy\\User\\lib\\site-packages\\matplotlib\\backends\\backend_wx.pyc\u001b[0m in \u001b[0;36mdestroy\u001b[1;34m(self, *args)\u001b[0m\n\u001b[0;32m   1432\u001b[0m     \u001b[1;32mdef\u001b[0m \u001b[0mdestroy\u001b[0m\u001b[1;33m(\u001b[0m\u001b[0mself\u001b[0m\u001b[1;33m,\u001b[0m \u001b[1;33m*\u001b[0m\u001b[0margs\u001b[0m\u001b[1;33m)\u001b[0m\u001b[1;33m:\u001b[0m\u001b[1;33m\u001b[0m\u001b[0m\n\u001b[0;32m   1433\u001b[0m         \u001b[0mDEBUG_MSG\u001b[0m\u001b[1;33m(\u001b[0m\u001b[1;34m\"destroy()\"\u001b[0m\u001b[1;33m,\u001b[0m \u001b[1;36m1\u001b[0m\u001b[1;33m,\u001b[0m \u001b[0mself\u001b[0m\u001b[1;33m)\u001b[0m\u001b[1;33m\u001b[0m\u001b[0m\n\u001b[1;32m-> 1434\u001b[1;33m         \u001b[0mself\u001b[0m\u001b[1;33m.\u001b[0m\u001b[0mframe\u001b[0m\u001b[1;33m.\u001b[0m\u001b[0mDestroy\u001b[0m\u001b[1;33m(\u001b[0m\u001b[1;33m)\u001b[0m\u001b[1;33m\u001b[0m\u001b[0m\n\u001b[0m\u001b[0;32m   1435\u001b[0m         \u001b[1;31m#if self.tb is not None: self.tb.Destroy()\u001b[0m\u001b[1;33m\u001b[0m\u001b[1;33m\u001b[0m\u001b[0m\n\u001b[0;32m   1436\u001b[0m         \u001b[1;31m#wx.GetApp().ProcessIdle()\u001b[0m\u001b[1;33m\u001b[0m\u001b[1;33m\u001b[0m\u001b[0m\n",
        "\u001b[1;32mC:\\Users\\Guillaume\\AppData\\Local\\Enthought\\Canopy\\User\\lib\\site-packages\\matplotlib\\backends\\backend_wx.pyc\u001b[0m in \u001b[0;36mDestroy\u001b[1;34m(self, *args, **kwargs)\u001b[0m\n\u001b[0;32m   1397\u001b[0m         \u001b[0mwxapp\u001b[0m \u001b[1;33m=\u001b[0m \u001b[0mwx\u001b[0m\u001b[1;33m.\u001b[0m\u001b[0mGetApp\u001b[0m\u001b[1;33m(\u001b[0m\u001b[1;33m)\u001b[0m\u001b[1;33m\u001b[0m\u001b[0m\n\u001b[0;32m   1398\u001b[0m         \u001b[1;32mif\u001b[0m \u001b[0mwxapp\u001b[0m\u001b[1;33m:\u001b[0m\u001b[1;33m\u001b[0m\u001b[0m\n\u001b[1;32m-> 1399\u001b[1;33m             \u001b[0mwxapp\u001b[0m\u001b[1;33m.\u001b[0m\u001b[0mYield\u001b[0m\u001b[1;33m(\u001b[0m\u001b[1;33m)\u001b[0m\u001b[1;33m\u001b[0m\u001b[0m\n\u001b[0m\u001b[0;32m   1400\u001b[0m         \u001b[1;32mreturn\u001b[0m \u001b[0mTrue\u001b[0m\u001b[1;33m\u001b[0m\u001b[0m\n\u001b[0;32m   1401\u001b[0m \u001b[1;33m\u001b[0m\u001b[0m\n",
        "\u001b[1;32mC:\\Users\\Guillaume\\AppData\\Local\\Enthought\\Canopy\\User\\lib\\site-packages\\wx\\_core.pyc\u001b[0m in \u001b[0;36mYield\u001b[1;34m(*args, **kwargs)\u001b[0m\n\u001b[0;32m   7273\u001b[0m \u001b[1;33m\u001b[0m\u001b[0m\n\u001b[0;32m   7274\u001b[0m         \"\"\"\n\u001b[1;32m-> 7275\u001b[1;33m         \u001b[1;32mreturn\u001b[0m \u001b[0m_core_\u001b[0m\u001b[1;33m.\u001b[0m\u001b[0mPyApp_Yield\u001b[0m\u001b[1;33m(\u001b[0m\u001b[1;33m*\u001b[0m\u001b[0margs\u001b[0m\u001b[1;33m,\u001b[0m \u001b[1;33m**\u001b[0m\u001b[0mkwargs\u001b[0m\u001b[1;33m)\u001b[0m\u001b[1;33m\u001b[0m\u001b[0m\n\u001b[0m\u001b[0;32m   7276\u001b[0m \u001b[1;33m\u001b[0m\u001b[0m\n\u001b[0;32m   7277\u001b[0m     \u001b[1;32mdef\u001b[0m \u001b[0mWakeUpIdle\u001b[0m\u001b[1;33m(\u001b[0m\u001b[1;33m*\u001b[0m\u001b[0margs\u001b[0m\u001b[1;33m,\u001b[0m \u001b[1;33m**\u001b[0m\u001b[0mkwargs\u001b[0m\u001b[1;33m)\u001b[0m\u001b[1;33m:\u001b[0m\u001b[1;33m\u001b[0m\u001b[0m\n",
        "\u001b[1;31mPyAssertionError\u001b[0m: C++ assertion \"wxThread::IsMain()\" failed at ..\\..\\src\\msw\\evtloop.cpp(244) in wxEventLoop::Dispatch(): only the main thread can process Windows messages"
       ]
      },
      {
       "output_type": "stream",
       "stream": "stdout",
       "text": [
        "2 2\n"
       ]
      },
      {
       "ename": "PyAssertionError",
       "evalue": "C++ assertion \"wxThread::IsMain()\" failed at ..\\..\\src\\msw\\evtloop.cpp(244) in wxEventLoop::Dispatch(): only the main thread can process Windows messages",
       "output_type": "pyerr",
       "traceback": [
        "\u001b[1;31m---------------------------------------------------------------------------\u001b[0m\n\u001b[1;31mPyAssertionError\u001b[0m                          Traceback (most recent call last)",
        "\u001b[1;32mC:\\Users\\Guillaume\\AppData\\Local\\Enthought\\Canopy\\User\\lib\\site-packages\\matplotlib\\backends\\backend_wx.pyc\u001b[0m in \u001b[0;36m_onClose\u001b[1;34m(self, evt)\u001b[0m\n\u001b[0;32m   1379\u001b[0m         \u001b[0mself\u001b[0m\u001b[1;33m.\u001b[0m\u001b[0mcanvas\u001b[0m\u001b[1;33m.\u001b[0m\u001b[0mclose_event\u001b[0m\u001b[1;33m(\u001b[0m\u001b[1;33m)\u001b[0m\u001b[1;33m\u001b[0m\u001b[0m\n\u001b[0;32m   1380\u001b[0m         \u001b[0mself\u001b[0m\u001b[1;33m.\u001b[0m\u001b[0mcanvas\u001b[0m\u001b[1;33m.\u001b[0m\u001b[0mstop_event_loop\u001b[0m\u001b[1;33m(\u001b[0m\u001b[1;33m)\u001b[0m\u001b[1;33m\u001b[0m\u001b[0m\n\u001b[1;32m-> 1381\u001b[1;33m         \u001b[0mGcf\u001b[0m\u001b[1;33m.\u001b[0m\u001b[0mdestroy\u001b[0m\u001b[1;33m(\u001b[0m\u001b[0mself\u001b[0m\u001b[1;33m.\u001b[0m\u001b[0mnum\u001b[0m\u001b[1;33m)\u001b[0m\u001b[1;33m\u001b[0m\u001b[0m\n\u001b[0m\u001b[0;32m   1382\u001b[0m         \u001b[1;31m#self.Destroy()\u001b[0m\u001b[1;33m\u001b[0m\u001b[1;33m\u001b[0m\u001b[0m\n\u001b[0;32m   1383\u001b[0m \u001b[1;33m\u001b[0m\u001b[0m\n",
        "\u001b[1;32mC:\\Users\\Guillaume\\AppData\\Local\\Enthought\\Canopy\\User\\lib\\site-packages\\matplotlib\\_pylab_helpers.pyc\u001b[0m in \u001b[0;36mdestroy\u001b[1;34m(num)\u001b[0m\n\u001b[0;32m     69\u001b[0m         \u001b[1;32mdel\u001b[0m \u001b[0mGcf\u001b[0m\u001b[1;33m.\u001b[0m\u001b[0mfigs\u001b[0m\u001b[1;33m[\u001b[0m\u001b[0mnum\u001b[0m\u001b[1;33m]\u001b[0m\u001b[1;33m\u001b[0m\u001b[0m\n\u001b[0;32m     70\u001b[0m         \u001b[1;31m#print len(Gcf.figs.keys()), len(Gcf._activeQue)\u001b[0m\u001b[1;33m\u001b[0m\u001b[1;33m\u001b[0m\u001b[0m\n\u001b[1;32m---> 71\u001b[1;33m         \u001b[0mmanager\u001b[0m\u001b[1;33m.\u001b[0m\u001b[0mdestroy\u001b[0m\u001b[1;33m(\u001b[0m\u001b[1;33m)\u001b[0m\u001b[1;33m\u001b[0m\u001b[0m\n\u001b[0m\u001b[0;32m     72\u001b[0m         \u001b[0mgc\u001b[0m\u001b[1;33m.\u001b[0m\u001b[0mcollect\u001b[0m\u001b[1;33m(\u001b[0m\u001b[1;36m1\u001b[0m\u001b[1;33m)\u001b[0m\u001b[1;33m\u001b[0m\u001b[0m\n\u001b[0;32m     73\u001b[0m \u001b[1;33m\u001b[0m\u001b[0m\n",
        "\u001b[1;32mC:\\Users\\Guillaume\\AppData\\Local\\Enthought\\Canopy\\User\\lib\\site-packages\\matplotlib\\backends\\backend_wx.pyc\u001b[0m in \u001b[0;36mdestroy\u001b[1;34m(self, *args)\u001b[0m\n\u001b[0;32m   1432\u001b[0m     \u001b[1;32mdef\u001b[0m \u001b[0mdestroy\u001b[0m\u001b[1;33m(\u001b[0m\u001b[0mself\u001b[0m\u001b[1;33m,\u001b[0m \u001b[1;33m*\u001b[0m\u001b[0margs\u001b[0m\u001b[1;33m)\u001b[0m\u001b[1;33m:\u001b[0m\u001b[1;33m\u001b[0m\u001b[0m\n\u001b[0;32m   1433\u001b[0m         \u001b[0mDEBUG_MSG\u001b[0m\u001b[1;33m(\u001b[0m\u001b[1;34m\"destroy()\"\u001b[0m\u001b[1;33m,\u001b[0m \u001b[1;36m1\u001b[0m\u001b[1;33m,\u001b[0m \u001b[0mself\u001b[0m\u001b[1;33m)\u001b[0m\u001b[1;33m\u001b[0m\u001b[0m\n\u001b[1;32m-> 1434\u001b[1;33m         \u001b[0mself\u001b[0m\u001b[1;33m.\u001b[0m\u001b[0mframe\u001b[0m\u001b[1;33m.\u001b[0m\u001b[0mDestroy\u001b[0m\u001b[1;33m(\u001b[0m\u001b[1;33m)\u001b[0m\u001b[1;33m\u001b[0m\u001b[0m\n\u001b[0m\u001b[0;32m   1435\u001b[0m         \u001b[1;31m#if self.tb is not None: self.tb.Destroy()\u001b[0m\u001b[1;33m\u001b[0m\u001b[1;33m\u001b[0m\u001b[0m\n\u001b[0;32m   1436\u001b[0m         \u001b[1;31m#wx.GetApp().ProcessIdle()\u001b[0m\u001b[1;33m\u001b[0m\u001b[1;33m\u001b[0m\u001b[0m\n",
        "\u001b[1;32mC:\\Users\\Guillaume\\AppData\\Local\\Enthought\\Canopy\\User\\lib\\site-packages\\matplotlib\\backends\\backend_wx.pyc\u001b[0m in \u001b[0;36mDestroy\u001b[1;34m(self, *args, **kwargs)\u001b[0m\n\u001b[0;32m   1397\u001b[0m         \u001b[0mwxapp\u001b[0m \u001b[1;33m=\u001b[0m \u001b[0mwx\u001b[0m\u001b[1;33m.\u001b[0m\u001b[0mGetApp\u001b[0m\u001b[1;33m(\u001b[0m\u001b[1;33m)\u001b[0m\u001b[1;33m\u001b[0m\u001b[0m\n\u001b[0;32m   1398\u001b[0m         \u001b[1;32mif\u001b[0m \u001b[0mwxapp\u001b[0m\u001b[1;33m:\u001b[0m\u001b[1;33m\u001b[0m\u001b[0m\n\u001b[1;32m-> 1399\u001b[1;33m             \u001b[0mwxapp\u001b[0m\u001b[1;33m.\u001b[0m\u001b[0mYield\u001b[0m\u001b[1;33m(\u001b[0m\u001b[1;33m)\u001b[0m\u001b[1;33m\u001b[0m\u001b[0m\n\u001b[0m\u001b[0;32m   1400\u001b[0m         \u001b[1;32mreturn\u001b[0m \u001b[0mTrue\u001b[0m\u001b[1;33m\u001b[0m\u001b[0m\n\u001b[0;32m   1401\u001b[0m \u001b[1;33m\u001b[0m\u001b[0m\n",
        "\u001b[1;32mC:\\Users\\Guillaume\\AppData\\Local\\Enthought\\Canopy\\User\\lib\\site-packages\\wx\\_core.pyc\u001b[0m in \u001b[0;36mYield\u001b[1;34m(*args, **kwargs)\u001b[0m\n\u001b[0;32m   7273\u001b[0m \u001b[1;33m\u001b[0m\u001b[0m\n\u001b[0;32m   7274\u001b[0m         \"\"\"\n\u001b[1;32m-> 7275\u001b[1;33m         \u001b[1;32mreturn\u001b[0m \u001b[0m_core_\u001b[0m\u001b[1;33m.\u001b[0m\u001b[0mPyApp_Yield\u001b[0m\u001b[1;33m(\u001b[0m\u001b[1;33m*\u001b[0m\u001b[0margs\u001b[0m\u001b[1;33m,\u001b[0m \u001b[1;33m**\u001b[0m\u001b[0mkwargs\u001b[0m\u001b[1;33m)\u001b[0m\u001b[1;33m\u001b[0m\u001b[0m\n\u001b[0m\u001b[0;32m   7276\u001b[0m \u001b[1;33m\u001b[0m\u001b[0m\n\u001b[0;32m   7277\u001b[0m     \u001b[1;32mdef\u001b[0m \u001b[0mWakeUpIdle\u001b[0m\u001b[1;33m(\u001b[0m\u001b[1;33m*\u001b[0m\u001b[0margs\u001b[0m\u001b[1;33m,\u001b[0m \u001b[1;33m**\u001b[0m\u001b[0mkwargs\u001b[0m\u001b[1;33m)\u001b[0m\u001b[1;33m:\u001b[0m\u001b[1;33m\u001b[0m\u001b[0m\n",
        "\u001b[1;31mPyAssertionError\u001b[0m: C++ assertion \"wxThread::IsMain()\" failed at ..\\..\\src\\msw\\evtloop.cpp(244) in wxEventLoop::Dispatch(): only the main thread can process Windows messages"
       ]
      },
      {
       "output_type": "stream",
       "stream": "stdout",
       "text": [
        "2 2\n"
       ]
      },
      {
       "ename": "PyAssertionError",
       "evalue": "C++ assertion \"wxThread::IsMain()\" failed at ..\\..\\src\\msw\\evtloop.cpp(244) in wxEventLoop::Dispatch(): only the main thread can process Windows messages",
       "output_type": "pyerr",
       "traceback": [
        "\u001b[1;31m---------------------------------------------------------------------------\u001b[0m\n\u001b[1;31mPyAssertionError\u001b[0m                          Traceback (most recent call last)",
        "\u001b[1;32mC:\\Users\\Guillaume\\AppData\\Local\\Enthought\\Canopy\\User\\lib\\site-packages\\matplotlib\\backends\\backend_wx.pyc\u001b[0m in \u001b[0;36m_onClose\u001b[1;34m(self, evt)\u001b[0m\n\u001b[0;32m   1379\u001b[0m         \u001b[0mself\u001b[0m\u001b[1;33m.\u001b[0m\u001b[0mcanvas\u001b[0m\u001b[1;33m.\u001b[0m\u001b[0mclose_event\u001b[0m\u001b[1;33m(\u001b[0m\u001b[1;33m)\u001b[0m\u001b[1;33m\u001b[0m\u001b[0m\n\u001b[0;32m   1380\u001b[0m         \u001b[0mself\u001b[0m\u001b[1;33m.\u001b[0m\u001b[0mcanvas\u001b[0m\u001b[1;33m.\u001b[0m\u001b[0mstop_event_loop\u001b[0m\u001b[1;33m(\u001b[0m\u001b[1;33m)\u001b[0m\u001b[1;33m\u001b[0m\u001b[0m\n\u001b[1;32m-> 1381\u001b[1;33m         \u001b[0mGcf\u001b[0m\u001b[1;33m.\u001b[0m\u001b[0mdestroy\u001b[0m\u001b[1;33m(\u001b[0m\u001b[0mself\u001b[0m\u001b[1;33m.\u001b[0m\u001b[0mnum\u001b[0m\u001b[1;33m)\u001b[0m\u001b[1;33m\u001b[0m\u001b[0m\n\u001b[0m\u001b[0;32m   1382\u001b[0m         \u001b[1;31m#self.Destroy()\u001b[0m\u001b[1;33m\u001b[0m\u001b[1;33m\u001b[0m\u001b[0m\n\u001b[0;32m   1383\u001b[0m \u001b[1;33m\u001b[0m\u001b[0m\n",
        "\u001b[1;32mC:\\Users\\Guillaume\\AppData\\Local\\Enthought\\Canopy\\User\\lib\\site-packages\\matplotlib\\_pylab_helpers.pyc\u001b[0m in \u001b[0;36mdestroy\u001b[1;34m(num)\u001b[0m\n\u001b[0;32m     69\u001b[0m         \u001b[1;32mdel\u001b[0m \u001b[0mGcf\u001b[0m\u001b[1;33m.\u001b[0m\u001b[0mfigs\u001b[0m\u001b[1;33m[\u001b[0m\u001b[0mnum\u001b[0m\u001b[1;33m]\u001b[0m\u001b[1;33m\u001b[0m\u001b[0m\n\u001b[0;32m     70\u001b[0m         \u001b[1;31m#print len(Gcf.figs.keys()), len(Gcf._activeQue)\u001b[0m\u001b[1;33m\u001b[0m\u001b[1;33m\u001b[0m\u001b[0m\n\u001b[1;32m---> 71\u001b[1;33m         \u001b[0mmanager\u001b[0m\u001b[1;33m.\u001b[0m\u001b[0mdestroy\u001b[0m\u001b[1;33m(\u001b[0m\u001b[1;33m)\u001b[0m\u001b[1;33m\u001b[0m\u001b[0m\n\u001b[0m\u001b[0;32m     72\u001b[0m         \u001b[0mgc\u001b[0m\u001b[1;33m.\u001b[0m\u001b[0mcollect\u001b[0m\u001b[1;33m(\u001b[0m\u001b[1;36m1\u001b[0m\u001b[1;33m)\u001b[0m\u001b[1;33m\u001b[0m\u001b[0m\n\u001b[0;32m     73\u001b[0m \u001b[1;33m\u001b[0m\u001b[0m\n",
        "\u001b[1;32mC:\\Users\\Guillaume\\AppData\\Local\\Enthought\\Canopy\\User\\lib\\site-packages\\matplotlib\\backends\\backend_wx.pyc\u001b[0m in \u001b[0;36mdestroy\u001b[1;34m(self, *args)\u001b[0m\n\u001b[0;32m   1432\u001b[0m     \u001b[1;32mdef\u001b[0m \u001b[0mdestroy\u001b[0m\u001b[1;33m(\u001b[0m\u001b[0mself\u001b[0m\u001b[1;33m,\u001b[0m \u001b[1;33m*\u001b[0m\u001b[0margs\u001b[0m\u001b[1;33m)\u001b[0m\u001b[1;33m:\u001b[0m\u001b[1;33m\u001b[0m\u001b[0m\n\u001b[0;32m   1433\u001b[0m         \u001b[0mDEBUG_MSG\u001b[0m\u001b[1;33m(\u001b[0m\u001b[1;34m\"destroy()\"\u001b[0m\u001b[1;33m,\u001b[0m \u001b[1;36m1\u001b[0m\u001b[1;33m,\u001b[0m \u001b[0mself\u001b[0m\u001b[1;33m)\u001b[0m\u001b[1;33m\u001b[0m\u001b[0m\n\u001b[1;32m-> 1434\u001b[1;33m         \u001b[0mself\u001b[0m\u001b[1;33m.\u001b[0m\u001b[0mframe\u001b[0m\u001b[1;33m.\u001b[0m\u001b[0mDestroy\u001b[0m\u001b[1;33m(\u001b[0m\u001b[1;33m)\u001b[0m\u001b[1;33m\u001b[0m\u001b[0m\n\u001b[0m\u001b[0;32m   1435\u001b[0m         \u001b[1;31m#if self.tb is not None: self.tb.Destroy()\u001b[0m\u001b[1;33m\u001b[0m\u001b[1;33m\u001b[0m\u001b[0m\n\u001b[0;32m   1436\u001b[0m         \u001b[1;31m#wx.GetApp().ProcessIdle()\u001b[0m\u001b[1;33m\u001b[0m\u001b[1;33m\u001b[0m\u001b[0m\n",
        "\u001b[1;32mC:\\Users\\Guillaume\\AppData\\Local\\Enthought\\Canopy\\User\\lib\\site-packages\\matplotlib\\backends\\backend_wx.pyc\u001b[0m in \u001b[0;36mDestroy\u001b[1;34m(self, *args, **kwargs)\u001b[0m\n\u001b[0;32m   1397\u001b[0m         \u001b[0mwxapp\u001b[0m \u001b[1;33m=\u001b[0m \u001b[0mwx\u001b[0m\u001b[1;33m.\u001b[0m\u001b[0mGetApp\u001b[0m\u001b[1;33m(\u001b[0m\u001b[1;33m)\u001b[0m\u001b[1;33m\u001b[0m\u001b[0m\n\u001b[0;32m   1398\u001b[0m         \u001b[1;32mif\u001b[0m \u001b[0mwxapp\u001b[0m\u001b[1;33m:\u001b[0m\u001b[1;33m\u001b[0m\u001b[0m\n\u001b[1;32m-> 1399\u001b[1;33m             \u001b[0mwxapp\u001b[0m\u001b[1;33m.\u001b[0m\u001b[0mYield\u001b[0m\u001b[1;33m(\u001b[0m\u001b[1;33m)\u001b[0m\u001b[1;33m\u001b[0m\u001b[0m\n\u001b[0m\u001b[0;32m   1400\u001b[0m         \u001b[1;32mreturn\u001b[0m \u001b[0mTrue\u001b[0m\u001b[1;33m\u001b[0m\u001b[0m\n\u001b[0;32m   1401\u001b[0m \u001b[1;33m\u001b[0m\u001b[0m\n",
        "\u001b[1;32mC:\\Users\\Guillaume\\AppData\\Local\\Enthought\\Canopy\\User\\lib\\site-packages\\wx\\_core.pyc\u001b[0m in \u001b[0;36mYield\u001b[1;34m(*args, **kwargs)\u001b[0m\n\u001b[0;32m   7273\u001b[0m \u001b[1;33m\u001b[0m\u001b[0m\n\u001b[0;32m   7274\u001b[0m         \"\"\"\n\u001b[1;32m-> 7275\u001b[1;33m         \u001b[1;32mreturn\u001b[0m \u001b[0m_core_\u001b[0m\u001b[1;33m.\u001b[0m\u001b[0mPyApp_Yield\u001b[0m\u001b[1;33m(\u001b[0m\u001b[1;33m*\u001b[0m\u001b[0margs\u001b[0m\u001b[1;33m,\u001b[0m \u001b[1;33m**\u001b[0m\u001b[0mkwargs\u001b[0m\u001b[1;33m)\u001b[0m\u001b[1;33m\u001b[0m\u001b[0m\n\u001b[0m\u001b[0;32m   7276\u001b[0m \u001b[1;33m\u001b[0m\u001b[0m\n\u001b[0;32m   7277\u001b[0m     \u001b[1;32mdef\u001b[0m \u001b[0mWakeUpIdle\u001b[0m\u001b[1;33m(\u001b[0m\u001b[1;33m*\u001b[0m\u001b[0margs\u001b[0m\u001b[1;33m,\u001b[0m \u001b[1;33m**\u001b[0m\u001b[0mkwargs\u001b[0m\u001b[1;33m)\u001b[0m\u001b[1;33m:\u001b[0m\u001b[1;33m\u001b[0m\u001b[0m\n",
        "\u001b[1;31mPyAssertionError\u001b[0m: C++ assertion \"wxThread::IsMain()\" failed at ..\\..\\src\\msw\\evtloop.cpp(244) in wxEventLoop::Dispatch(): only the main thread can process Windows messages"
       ]
      },
      {
       "output_type": "stream",
       "stream": "stdout",
       "text": [
        "2 2\n"
       ]
      },
      {
       "ename": "PyAssertionError",
       "evalue": "C++ assertion \"wxThread::IsMain()\" failed at ..\\..\\src\\msw\\evtloop.cpp(244) in wxEventLoop::Dispatch(): only the main thread can process Windows messages",
       "output_type": "pyerr",
       "traceback": [
        "\u001b[1;31m---------------------------------------------------------------------------\u001b[0m\n\u001b[1;31mPyAssertionError\u001b[0m                          Traceback (most recent call last)",
        "\u001b[1;32mC:\\Users\\Guillaume\\AppData\\Local\\Enthought\\Canopy\\User\\lib\\site-packages\\matplotlib\\backends\\backend_wx.pyc\u001b[0m in \u001b[0;36m_onClose\u001b[1;34m(self, evt)\u001b[0m\n\u001b[0;32m   1379\u001b[0m         \u001b[0mself\u001b[0m\u001b[1;33m.\u001b[0m\u001b[0mcanvas\u001b[0m\u001b[1;33m.\u001b[0m\u001b[0mclose_event\u001b[0m\u001b[1;33m(\u001b[0m\u001b[1;33m)\u001b[0m\u001b[1;33m\u001b[0m\u001b[0m\n\u001b[0;32m   1380\u001b[0m         \u001b[0mself\u001b[0m\u001b[1;33m.\u001b[0m\u001b[0mcanvas\u001b[0m\u001b[1;33m.\u001b[0m\u001b[0mstop_event_loop\u001b[0m\u001b[1;33m(\u001b[0m\u001b[1;33m)\u001b[0m\u001b[1;33m\u001b[0m\u001b[0m\n\u001b[1;32m-> 1381\u001b[1;33m         \u001b[0mGcf\u001b[0m\u001b[1;33m.\u001b[0m\u001b[0mdestroy\u001b[0m\u001b[1;33m(\u001b[0m\u001b[0mself\u001b[0m\u001b[1;33m.\u001b[0m\u001b[0mnum\u001b[0m\u001b[1;33m)\u001b[0m\u001b[1;33m\u001b[0m\u001b[0m\n\u001b[0m\u001b[0;32m   1382\u001b[0m         \u001b[1;31m#self.Destroy()\u001b[0m\u001b[1;33m\u001b[0m\u001b[1;33m\u001b[0m\u001b[0m\n\u001b[0;32m   1383\u001b[0m \u001b[1;33m\u001b[0m\u001b[0m\n",
        "\u001b[1;32mC:\\Users\\Guillaume\\AppData\\Local\\Enthought\\Canopy\\User\\lib\\site-packages\\matplotlib\\_pylab_helpers.pyc\u001b[0m in \u001b[0;36mdestroy\u001b[1;34m(num)\u001b[0m\n\u001b[0;32m     69\u001b[0m         \u001b[1;32mdel\u001b[0m \u001b[0mGcf\u001b[0m\u001b[1;33m.\u001b[0m\u001b[0mfigs\u001b[0m\u001b[1;33m[\u001b[0m\u001b[0mnum\u001b[0m\u001b[1;33m]\u001b[0m\u001b[1;33m\u001b[0m\u001b[0m\n\u001b[0;32m     70\u001b[0m         \u001b[1;31m#print len(Gcf.figs.keys()), len(Gcf._activeQue)\u001b[0m\u001b[1;33m\u001b[0m\u001b[1;33m\u001b[0m\u001b[0m\n\u001b[1;32m---> 71\u001b[1;33m         \u001b[0mmanager\u001b[0m\u001b[1;33m.\u001b[0m\u001b[0mdestroy\u001b[0m\u001b[1;33m(\u001b[0m\u001b[1;33m)\u001b[0m\u001b[1;33m\u001b[0m\u001b[0m\n\u001b[0m\u001b[0;32m     72\u001b[0m         \u001b[0mgc\u001b[0m\u001b[1;33m.\u001b[0m\u001b[0mcollect\u001b[0m\u001b[1;33m(\u001b[0m\u001b[1;36m1\u001b[0m\u001b[1;33m)\u001b[0m\u001b[1;33m\u001b[0m\u001b[0m\n\u001b[0;32m     73\u001b[0m \u001b[1;33m\u001b[0m\u001b[0m\n",
        "\u001b[1;32mC:\\Users\\Guillaume\\AppData\\Local\\Enthought\\Canopy\\User\\lib\\site-packages\\matplotlib\\backends\\backend_wx.pyc\u001b[0m in \u001b[0;36mdestroy\u001b[1;34m(self, *args)\u001b[0m\n\u001b[0;32m   1432\u001b[0m     \u001b[1;32mdef\u001b[0m \u001b[0mdestroy\u001b[0m\u001b[1;33m(\u001b[0m\u001b[0mself\u001b[0m\u001b[1;33m,\u001b[0m \u001b[1;33m*\u001b[0m\u001b[0margs\u001b[0m\u001b[1;33m)\u001b[0m\u001b[1;33m:\u001b[0m\u001b[1;33m\u001b[0m\u001b[0m\n\u001b[0;32m   1433\u001b[0m         \u001b[0mDEBUG_MSG\u001b[0m\u001b[1;33m(\u001b[0m\u001b[1;34m\"destroy()\"\u001b[0m\u001b[1;33m,\u001b[0m \u001b[1;36m1\u001b[0m\u001b[1;33m,\u001b[0m \u001b[0mself\u001b[0m\u001b[1;33m)\u001b[0m\u001b[1;33m\u001b[0m\u001b[0m\n\u001b[1;32m-> 1434\u001b[1;33m         \u001b[0mself\u001b[0m\u001b[1;33m.\u001b[0m\u001b[0mframe\u001b[0m\u001b[1;33m.\u001b[0m\u001b[0mDestroy\u001b[0m\u001b[1;33m(\u001b[0m\u001b[1;33m)\u001b[0m\u001b[1;33m\u001b[0m\u001b[0m\n\u001b[0m\u001b[0;32m   1435\u001b[0m         \u001b[1;31m#if self.tb is not None: self.tb.Destroy()\u001b[0m\u001b[1;33m\u001b[0m\u001b[1;33m\u001b[0m\u001b[0m\n\u001b[0;32m   1436\u001b[0m         \u001b[1;31m#wx.GetApp().ProcessIdle()\u001b[0m\u001b[1;33m\u001b[0m\u001b[1;33m\u001b[0m\u001b[0m\n",
        "\u001b[1;32mC:\\Users\\Guillaume\\AppData\\Local\\Enthought\\Canopy\\User\\lib\\site-packages\\matplotlib\\backends\\backend_wx.pyc\u001b[0m in \u001b[0;36mDestroy\u001b[1;34m(self, *args, **kwargs)\u001b[0m\n\u001b[0;32m   1397\u001b[0m         \u001b[0mwxapp\u001b[0m \u001b[1;33m=\u001b[0m \u001b[0mwx\u001b[0m\u001b[1;33m.\u001b[0m\u001b[0mGetApp\u001b[0m\u001b[1;33m(\u001b[0m\u001b[1;33m)\u001b[0m\u001b[1;33m\u001b[0m\u001b[0m\n\u001b[0;32m   1398\u001b[0m         \u001b[1;32mif\u001b[0m \u001b[0mwxapp\u001b[0m\u001b[1;33m:\u001b[0m\u001b[1;33m\u001b[0m\u001b[0m\n\u001b[1;32m-> 1399\u001b[1;33m             \u001b[0mwxapp\u001b[0m\u001b[1;33m.\u001b[0m\u001b[0mYield\u001b[0m\u001b[1;33m(\u001b[0m\u001b[1;33m)\u001b[0m\u001b[1;33m\u001b[0m\u001b[0m\n\u001b[0m\u001b[0;32m   1400\u001b[0m         \u001b[1;32mreturn\u001b[0m \u001b[0mTrue\u001b[0m\u001b[1;33m\u001b[0m\u001b[0m\n\u001b[0;32m   1401\u001b[0m \u001b[1;33m\u001b[0m\u001b[0m\n",
        "\u001b[1;32mC:\\Users\\Guillaume\\AppData\\Local\\Enthought\\Canopy\\User\\lib\\site-packages\\wx\\_core.pyc\u001b[0m in \u001b[0;36mYield\u001b[1;34m(*args, **kwargs)\u001b[0m\n\u001b[0;32m   7273\u001b[0m \u001b[1;33m\u001b[0m\u001b[0m\n\u001b[0;32m   7274\u001b[0m         \"\"\"\n\u001b[1;32m-> 7275\u001b[1;33m         \u001b[1;32mreturn\u001b[0m \u001b[0m_core_\u001b[0m\u001b[1;33m.\u001b[0m\u001b[0mPyApp_Yield\u001b[0m\u001b[1;33m(\u001b[0m\u001b[1;33m*\u001b[0m\u001b[0margs\u001b[0m\u001b[1;33m,\u001b[0m \u001b[1;33m**\u001b[0m\u001b[0mkwargs\u001b[0m\u001b[1;33m)\u001b[0m\u001b[1;33m\u001b[0m\u001b[0m\n\u001b[0m\u001b[0;32m   7276\u001b[0m \u001b[1;33m\u001b[0m\u001b[0m\n\u001b[0;32m   7277\u001b[0m     \u001b[1;32mdef\u001b[0m \u001b[0mWakeUpIdle\u001b[0m\u001b[1;33m(\u001b[0m\u001b[1;33m*\u001b[0m\u001b[0margs\u001b[0m\u001b[1;33m,\u001b[0m \u001b[1;33m**\u001b[0m\u001b[0mkwargs\u001b[0m\u001b[1;33m)\u001b[0m\u001b[1;33m:\u001b[0m\u001b[1;33m\u001b[0m\u001b[0m\n",
        "\u001b[1;31mPyAssertionError\u001b[0m: C++ assertion \"wxThread::IsMain()\" failed at ..\\..\\src\\msw\\evtloop.cpp(244) in wxEventLoop::Dispatch(): only the main thread can process Windows messages"
       ]
      },
      {
       "output_type": "stream",
       "stream": "stdout",
       "text": [
        "3 3\n"
       ]
      },
      {
       "ename": "PyAssertionError",
       "evalue": "C++ assertion \"wxThread::IsMain()\" failed at ..\\..\\src\\msw\\evtloop.cpp(244) in wxEventLoop::Dispatch(): only the main thread can process Windows messages",
       "output_type": "pyerr",
       "traceback": [
        "\u001b[1;31m---------------------------------------------------------------------------\u001b[0m\n\u001b[1;31mPyAssertionError\u001b[0m                          Traceback (most recent call last)",
        "\u001b[1;32mC:\\Users\\Guillaume\\AppData\\Local\\Enthought\\Canopy\\User\\lib\\site-packages\\matplotlib\\backends\\backend_wx.pyc\u001b[0m in \u001b[0;36m_onClose\u001b[1;34m(self, evt)\u001b[0m\n\u001b[0;32m   1379\u001b[0m         \u001b[0mself\u001b[0m\u001b[1;33m.\u001b[0m\u001b[0mcanvas\u001b[0m\u001b[1;33m.\u001b[0m\u001b[0mclose_event\u001b[0m\u001b[1;33m(\u001b[0m\u001b[1;33m)\u001b[0m\u001b[1;33m\u001b[0m\u001b[0m\n\u001b[0;32m   1380\u001b[0m         \u001b[0mself\u001b[0m\u001b[1;33m.\u001b[0m\u001b[0mcanvas\u001b[0m\u001b[1;33m.\u001b[0m\u001b[0mstop_event_loop\u001b[0m\u001b[1;33m(\u001b[0m\u001b[1;33m)\u001b[0m\u001b[1;33m\u001b[0m\u001b[0m\n\u001b[1;32m-> 1381\u001b[1;33m         \u001b[0mGcf\u001b[0m\u001b[1;33m.\u001b[0m\u001b[0mdestroy\u001b[0m\u001b[1;33m(\u001b[0m\u001b[0mself\u001b[0m\u001b[1;33m.\u001b[0m\u001b[0mnum\u001b[0m\u001b[1;33m)\u001b[0m\u001b[1;33m\u001b[0m\u001b[0m\n\u001b[0m\u001b[0;32m   1382\u001b[0m         \u001b[1;31m#self.Destroy()\u001b[0m\u001b[1;33m\u001b[0m\u001b[1;33m\u001b[0m\u001b[0m\n\u001b[0;32m   1383\u001b[0m \u001b[1;33m\u001b[0m\u001b[0m\n",
        "\u001b[1;32mC:\\Users\\Guillaume\\AppData\\Local\\Enthought\\Canopy\\User\\lib\\site-packages\\matplotlib\\_pylab_helpers.pyc\u001b[0m in \u001b[0;36mdestroy\u001b[1;34m(num)\u001b[0m\n\u001b[0;32m     69\u001b[0m         \u001b[1;32mdel\u001b[0m \u001b[0mGcf\u001b[0m\u001b[1;33m.\u001b[0m\u001b[0mfigs\u001b[0m\u001b[1;33m[\u001b[0m\u001b[0mnum\u001b[0m\u001b[1;33m]\u001b[0m\u001b[1;33m\u001b[0m\u001b[0m\n\u001b[0;32m     70\u001b[0m         \u001b[1;31m#print len(Gcf.figs.keys()), len(Gcf._activeQue)\u001b[0m\u001b[1;33m\u001b[0m\u001b[1;33m\u001b[0m\u001b[0m\n\u001b[1;32m---> 71\u001b[1;33m         \u001b[0mmanager\u001b[0m\u001b[1;33m.\u001b[0m\u001b[0mdestroy\u001b[0m\u001b[1;33m(\u001b[0m\u001b[1;33m)\u001b[0m\u001b[1;33m\u001b[0m\u001b[0m\n\u001b[0m\u001b[0;32m     72\u001b[0m         \u001b[0mgc\u001b[0m\u001b[1;33m.\u001b[0m\u001b[0mcollect\u001b[0m\u001b[1;33m(\u001b[0m\u001b[1;36m1\u001b[0m\u001b[1;33m)\u001b[0m\u001b[1;33m\u001b[0m\u001b[0m\n\u001b[0;32m     73\u001b[0m \u001b[1;33m\u001b[0m\u001b[0m\n",
        "\u001b[1;32mC:\\Users\\Guillaume\\AppData\\Local\\Enthought\\Canopy\\User\\lib\\site-packages\\matplotlib\\backends\\backend_wx.pyc\u001b[0m in \u001b[0;36mdestroy\u001b[1;34m(self, *args)\u001b[0m\n\u001b[0;32m   1432\u001b[0m     \u001b[1;32mdef\u001b[0m \u001b[0mdestroy\u001b[0m\u001b[1;33m(\u001b[0m\u001b[0mself\u001b[0m\u001b[1;33m,\u001b[0m \u001b[1;33m*\u001b[0m\u001b[0margs\u001b[0m\u001b[1;33m)\u001b[0m\u001b[1;33m:\u001b[0m\u001b[1;33m\u001b[0m\u001b[0m\n\u001b[0;32m   1433\u001b[0m         \u001b[0mDEBUG_MSG\u001b[0m\u001b[1;33m(\u001b[0m\u001b[1;34m\"destroy()\"\u001b[0m\u001b[1;33m,\u001b[0m \u001b[1;36m1\u001b[0m\u001b[1;33m,\u001b[0m \u001b[0mself\u001b[0m\u001b[1;33m)\u001b[0m\u001b[1;33m\u001b[0m\u001b[0m\n\u001b[1;32m-> 1434\u001b[1;33m         \u001b[0mself\u001b[0m\u001b[1;33m.\u001b[0m\u001b[0mframe\u001b[0m\u001b[1;33m.\u001b[0m\u001b[0mDestroy\u001b[0m\u001b[1;33m(\u001b[0m\u001b[1;33m)\u001b[0m\u001b[1;33m\u001b[0m\u001b[0m\n\u001b[0m\u001b[0;32m   1435\u001b[0m         \u001b[1;31m#if self.tb is not None: self.tb.Destroy()\u001b[0m\u001b[1;33m\u001b[0m\u001b[1;33m\u001b[0m\u001b[0m\n\u001b[0;32m   1436\u001b[0m         \u001b[1;31m#wx.GetApp().ProcessIdle()\u001b[0m\u001b[1;33m\u001b[0m\u001b[1;33m\u001b[0m\u001b[0m\n",
        "\u001b[1;32mC:\\Users\\Guillaume\\AppData\\Local\\Enthought\\Canopy\\User\\lib\\site-packages\\matplotlib\\backends\\backend_wx.pyc\u001b[0m in \u001b[0;36mDestroy\u001b[1;34m(self, *args, **kwargs)\u001b[0m\n\u001b[0;32m   1397\u001b[0m         \u001b[0mwxapp\u001b[0m \u001b[1;33m=\u001b[0m \u001b[0mwx\u001b[0m\u001b[1;33m.\u001b[0m\u001b[0mGetApp\u001b[0m\u001b[1;33m(\u001b[0m\u001b[1;33m)\u001b[0m\u001b[1;33m\u001b[0m\u001b[0m\n\u001b[0;32m   1398\u001b[0m         \u001b[1;32mif\u001b[0m \u001b[0mwxapp\u001b[0m\u001b[1;33m:\u001b[0m\u001b[1;33m\u001b[0m\u001b[0m\n\u001b[1;32m-> 1399\u001b[1;33m             \u001b[0mwxapp\u001b[0m\u001b[1;33m.\u001b[0m\u001b[0mYield\u001b[0m\u001b[1;33m(\u001b[0m\u001b[1;33m)\u001b[0m\u001b[1;33m\u001b[0m\u001b[0m\n\u001b[0m\u001b[0;32m   1400\u001b[0m         \u001b[1;32mreturn\u001b[0m \u001b[0mTrue\u001b[0m\u001b[1;33m\u001b[0m\u001b[0m\n\u001b[0;32m   1401\u001b[0m \u001b[1;33m\u001b[0m\u001b[0m\n",
        "\u001b[1;32mC:\\Users\\Guillaume\\AppData\\Local\\Enthought\\Canopy\\User\\lib\\site-packages\\wx\\_core.pyc\u001b[0m in \u001b[0;36mYield\u001b[1;34m(*args, **kwargs)\u001b[0m\n\u001b[0;32m   7273\u001b[0m \u001b[1;33m\u001b[0m\u001b[0m\n\u001b[0;32m   7274\u001b[0m         \"\"\"\n\u001b[1;32m-> 7275\u001b[1;33m         \u001b[1;32mreturn\u001b[0m \u001b[0m_core_\u001b[0m\u001b[1;33m.\u001b[0m\u001b[0mPyApp_Yield\u001b[0m\u001b[1;33m(\u001b[0m\u001b[1;33m*\u001b[0m\u001b[0margs\u001b[0m\u001b[1;33m,\u001b[0m \u001b[1;33m**\u001b[0m\u001b[0mkwargs\u001b[0m\u001b[1;33m)\u001b[0m\u001b[1;33m\u001b[0m\u001b[0m\n\u001b[0m\u001b[0;32m   7276\u001b[0m \u001b[1;33m\u001b[0m\u001b[0m\n\u001b[0;32m   7277\u001b[0m     \u001b[1;32mdef\u001b[0m \u001b[0mWakeUpIdle\u001b[0m\u001b[1;33m(\u001b[0m\u001b[1;33m*\u001b[0m\u001b[0margs\u001b[0m\u001b[1;33m,\u001b[0m \u001b[1;33m**\u001b[0m\u001b[0mkwargs\u001b[0m\u001b[1;33m)\u001b[0m\u001b[1;33m:\u001b[0m\u001b[1;33m\u001b[0m\u001b[0m\n",
        "\u001b[1;31mPyAssertionError\u001b[0m: C++ assertion \"wxThread::IsMain()\" failed at ..\\..\\src\\msw\\evtloop.cpp(244) in wxEventLoop::Dispatch(): only the main thread can process Windows messages"
       ]
      },
      {
       "output_type": "stream",
       "stream": "stdout",
       "text": [
        "3 3\n"
       ]
      },
      {
       "ename": "PyAssertionError",
       "evalue": "C++ assertion \"wxThread::IsMain()\" failed at ..\\..\\src\\msw\\evtloop.cpp(244) in wxEventLoop::Dispatch(): only the main thread can process Windows messages",
       "output_type": "pyerr",
       "traceback": [
        "\u001b[1;31m---------------------------------------------------------------------------\u001b[0m\n\u001b[1;31mPyAssertionError\u001b[0m                          Traceback (most recent call last)",
        "\u001b[1;32mC:\\Users\\Guillaume\\AppData\\Local\\Enthought\\Canopy\\User\\lib\\site-packages\\matplotlib\\backends\\backend_wx.pyc\u001b[0m in \u001b[0;36m_onClose\u001b[1;34m(self, evt)\u001b[0m\n\u001b[0;32m   1379\u001b[0m         \u001b[0mself\u001b[0m\u001b[1;33m.\u001b[0m\u001b[0mcanvas\u001b[0m\u001b[1;33m.\u001b[0m\u001b[0mclose_event\u001b[0m\u001b[1;33m(\u001b[0m\u001b[1;33m)\u001b[0m\u001b[1;33m\u001b[0m\u001b[0m\n\u001b[0;32m   1380\u001b[0m         \u001b[0mself\u001b[0m\u001b[1;33m.\u001b[0m\u001b[0mcanvas\u001b[0m\u001b[1;33m.\u001b[0m\u001b[0mstop_event_loop\u001b[0m\u001b[1;33m(\u001b[0m\u001b[1;33m)\u001b[0m\u001b[1;33m\u001b[0m\u001b[0m\n\u001b[1;32m-> 1381\u001b[1;33m         \u001b[0mGcf\u001b[0m\u001b[1;33m.\u001b[0m\u001b[0mdestroy\u001b[0m\u001b[1;33m(\u001b[0m\u001b[0mself\u001b[0m\u001b[1;33m.\u001b[0m\u001b[0mnum\u001b[0m\u001b[1;33m)\u001b[0m\u001b[1;33m\u001b[0m\u001b[0m\n\u001b[0m\u001b[0;32m   1382\u001b[0m         \u001b[1;31m#self.Destroy()\u001b[0m\u001b[1;33m\u001b[0m\u001b[1;33m\u001b[0m\u001b[0m\n\u001b[0;32m   1383\u001b[0m \u001b[1;33m\u001b[0m\u001b[0m\n",
        "\u001b[1;32mC:\\Users\\Guillaume\\AppData\\Local\\Enthought\\Canopy\\User\\lib\\site-packages\\matplotlib\\_pylab_helpers.pyc\u001b[0m in \u001b[0;36mdestroy\u001b[1;34m(num)\u001b[0m\n\u001b[0;32m     69\u001b[0m         \u001b[1;32mdel\u001b[0m \u001b[0mGcf\u001b[0m\u001b[1;33m.\u001b[0m\u001b[0mfigs\u001b[0m\u001b[1;33m[\u001b[0m\u001b[0mnum\u001b[0m\u001b[1;33m]\u001b[0m\u001b[1;33m\u001b[0m\u001b[0m\n\u001b[0;32m     70\u001b[0m         \u001b[1;31m#print len(Gcf.figs.keys()), len(Gcf._activeQue)\u001b[0m\u001b[1;33m\u001b[0m\u001b[1;33m\u001b[0m\u001b[0m\n\u001b[1;32m---> 71\u001b[1;33m         \u001b[0mmanager\u001b[0m\u001b[1;33m.\u001b[0m\u001b[0mdestroy\u001b[0m\u001b[1;33m(\u001b[0m\u001b[1;33m)\u001b[0m\u001b[1;33m\u001b[0m\u001b[0m\n\u001b[0m\u001b[0;32m     72\u001b[0m         \u001b[0mgc\u001b[0m\u001b[1;33m.\u001b[0m\u001b[0mcollect\u001b[0m\u001b[1;33m(\u001b[0m\u001b[1;36m1\u001b[0m\u001b[1;33m)\u001b[0m\u001b[1;33m\u001b[0m\u001b[0m\n\u001b[0;32m     73\u001b[0m \u001b[1;33m\u001b[0m\u001b[0m\n",
        "\u001b[1;32mC:\\Users\\Guillaume\\AppData\\Local\\Enthought\\Canopy\\User\\lib\\site-packages\\matplotlib\\backends\\backend_wx.pyc\u001b[0m in \u001b[0;36mdestroy\u001b[1;34m(self, *args)\u001b[0m\n\u001b[0;32m   1432\u001b[0m     \u001b[1;32mdef\u001b[0m \u001b[0mdestroy\u001b[0m\u001b[1;33m(\u001b[0m\u001b[0mself\u001b[0m\u001b[1;33m,\u001b[0m \u001b[1;33m*\u001b[0m\u001b[0margs\u001b[0m\u001b[1;33m)\u001b[0m\u001b[1;33m:\u001b[0m\u001b[1;33m\u001b[0m\u001b[0m\n\u001b[0;32m   1433\u001b[0m         \u001b[0mDEBUG_MSG\u001b[0m\u001b[1;33m(\u001b[0m\u001b[1;34m\"destroy()\"\u001b[0m\u001b[1;33m,\u001b[0m \u001b[1;36m1\u001b[0m\u001b[1;33m,\u001b[0m \u001b[0mself\u001b[0m\u001b[1;33m)\u001b[0m\u001b[1;33m\u001b[0m\u001b[0m\n\u001b[1;32m-> 1434\u001b[1;33m         \u001b[0mself\u001b[0m\u001b[1;33m.\u001b[0m\u001b[0mframe\u001b[0m\u001b[1;33m.\u001b[0m\u001b[0mDestroy\u001b[0m\u001b[1;33m(\u001b[0m\u001b[1;33m)\u001b[0m\u001b[1;33m\u001b[0m\u001b[0m\n\u001b[0m\u001b[0;32m   1435\u001b[0m         \u001b[1;31m#if self.tb is not None: self.tb.Destroy()\u001b[0m\u001b[1;33m\u001b[0m\u001b[1;33m\u001b[0m\u001b[0m\n\u001b[0;32m   1436\u001b[0m         \u001b[1;31m#wx.GetApp().ProcessIdle()\u001b[0m\u001b[1;33m\u001b[0m\u001b[1;33m\u001b[0m\u001b[0m\n",
        "\u001b[1;32mC:\\Users\\Guillaume\\AppData\\Local\\Enthought\\Canopy\\User\\lib\\site-packages\\matplotlib\\backends\\backend_wx.pyc\u001b[0m in \u001b[0;36mDestroy\u001b[1;34m(self, *args, **kwargs)\u001b[0m\n\u001b[0;32m   1397\u001b[0m         \u001b[0mwxapp\u001b[0m \u001b[1;33m=\u001b[0m \u001b[0mwx\u001b[0m\u001b[1;33m.\u001b[0m\u001b[0mGetApp\u001b[0m\u001b[1;33m(\u001b[0m\u001b[1;33m)\u001b[0m\u001b[1;33m\u001b[0m\u001b[0m\n\u001b[0;32m   1398\u001b[0m         \u001b[1;32mif\u001b[0m \u001b[0mwxapp\u001b[0m\u001b[1;33m:\u001b[0m\u001b[1;33m\u001b[0m\u001b[0m\n\u001b[1;32m-> 1399\u001b[1;33m             \u001b[0mwxapp\u001b[0m\u001b[1;33m.\u001b[0m\u001b[0mYield\u001b[0m\u001b[1;33m(\u001b[0m\u001b[1;33m)\u001b[0m\u001b[1;33m\u001b[0m\u001b[0m\n\u001b[0m\u001b[0;32m   1400\u001b[0m         \u001b[1;32mreturn\u001b[0m \u001b[0mTrue\u001b[0m\u001b[1;33m\u001b[0m\u001b[0m\n\u001b[0;32m   1401\u001b[0m \u001b[1;33m\u001b[0m\u001b[0m\n",
        "\u001b[1;32mC:\\Users\\Guillaume\\AppData\\Local\\Enthought\\Canopy\\User\\lib\\site-packages\\wx\\_core.pyc\u001b[0m in \u001b[0;36mYield\u001b[1;34m(*args, **kwargs)\u001b[0m\n\u001b[0;32m   7273\u001b[0m \u001b[1;33m\u001b[0m\u001b[0m\n\u001b[0;32m   7274\u001b[0m         \"\"\"\n\u001b[1;32m-> 7275\u001b[1;33m         \u001b[1;32mreturn\u001b[0m \u001b[0m_core_\u001b[0m\u001b[1;33m.\u001b[0m\u001b[0mPyApp_Yield\u001b[0m\u001b[1;33m(\u001b[0m\u001b[1;33m*\u001b[0m\u001b[0margs\u001b[0m\u001b[1;33m,\u001b[0m \u001b[1;33m**\u001b[0m\u001b[0mkwargs\u001b[0m\u001b[1;33m)\u001b[0m\u001b[1;33m\u001b[0m\u001b[0m\n\u001b[0m\u001b[0;32m   7276\u001b[0m \u001b[1;33m\u001b[0m\u001b[0m\n\u001b[0;32m   7277\u001b[0m     \u001b[1;32mdef\u001b[0m \u001b[0mWakeUpIdle\u001b[0m\u001b[1;33m(\u001b[0m\u001b[1;33m*\u001b[0m\u001b[0margs\u001b[0m\u001b[1;33m,\u001b[0m \u001b[1;33m**\u001b[0m\u001b[0mkwargs\u001b[0m\u001b[1;33m)\u001b[0m\u001b[1;33m:\u001b[0m\u001b[1;33m\u001b[0m\u001b[0m\n",
        "\u001b[1;31mPyAssertionError\u001b[0m: C++ assertion \"wxThread::IsMain()\" failed at ..\\..\\src\\msw\\evtloop.cpp(244) in wxEventLoop::Dispatch(): only the main thread can process Windows messages"
       ]
      },
      {
       "output_type": "stream",
       "stream": "stdout",
       "text": [
        "3 3\n"
       ]
      },
      {
       "ename": "PyAssertionError",
       "evalue": "C++ assertion \"wxThread::IsMain()\" failed at ..\\..\\src\\msw\\evtloop.cpp(244) in wxEventLoop::Dispatch(): only the main thread can process Windows messages",
       "output_type": "pyerr",
       "traceback": [
        "\u001b[1;31m---------------------------------------------------------------------------\u001b[0m\n\u001b[1;31mPyAssertionError\u001b[0m                          Traceback (most recent call last)",
        "\u001b[1;32mC:\\Users\\Guillaume\\AppData\\Local\\Enthought\\Canopy\\User\\lib\\site-packages\\matplotlib\\backends\\backend_wx.pyc\u001b[0m in \u001b[0;36m_onClose\u001b[1;34m(self, evt)\u001b[0m\n\u001b[0;32m   1379\u001b[0m         \u001b[0mself\u001b[0m\u001b[1;33m.\u001b[0m\u001b[0mcanvas\u001b[0m\u001b[1;33m.\u001b[0m\u001b[0mclose_event\u001b[0m\u001b[1;33m(\u001b[0m\u001b[1;33m)\u001b[0m\u001b[1;33m\u001b[0m\u001b[0m\n\u001b[0;32m   1380\u001b[0m         \u001b[0mself\u001b[0m\u001b[1;33m.\u001b[0m\u001b[0mcanvas\u001b[0m\u001b[1;33m.\u001b[0m\u001b[0mstop_event_loop\u001b[0m\u001b[1;33m(\u001b[0m\u001b[1;33m)\u001b[0m\u001b[1;33m\u001b[0m\u001b[0m\n\u001b[1;32m-> 1381\u001b[1;33m         \u001b[0mGcf\u001b[0m\u001b[1;33m.\u001b[0m\u001b[0mdestroy\u001b[0m\u001b[1;33m(\u001b[0m\u001b[0mself\u001b[0m\u001b[1;33m.\u001b[0m\u001b[0mnum\u001b[0m\u001b[1;33m)\u001b[0m\u001b[1;33m\u001b[0m\u001b[0m\n\u001b[0m\u001b[0;32m   1382\u001b[0m         \u001b[1;31m#self.Destroy()\u001b[0m\u001b[1;33m\u001b[0m\u001b[1;33m\u001b[0m\u001b[0m\n\u001b[0;32m   1383\u001b[0m \u001b[1;33m\u001b[0m\u001b[0m\n",
        "\u001b[1;32mC:\\Users\\Guillaume\\AppData\\Local\\Enthought\\Canopy\\User\\lib\\site-packages\\matplotlib\\_pylab_helpers.pyc\u001b[0m in \u001b[0;36mdestroy\u001b[1;34m(num)\u001b[0m\n\u001b[0;32m     69\u001b[0m         \u001b[1;32mdel\u001b[0m \u001b[0mGcf\u001b[0m\u001b[1;33m.\u001b[0m\u001b[0mfigs\u001b[0m\u001b[1;33m[\u001b[0m\u001b[0mnum\u001b[0m\u001b[1;33m]\u001b[0m\u001b[1;33m\u001b[0m\u001b[0m\n\u001b[0;32m     70\u001b[0m         \u001b[1;31m#print len(Gcf.figs.keys()), len(Gcf._activeQue)\u001b[0m\u001b[1;33m\u001b[0m\u001b[1;33m\u001b[0m\u001b[0m\n\u001b[1;32m---> 71\u001b[1;33m         \u001b[0mmanager\u001b[0m\u001b[1;33m.\u001b[0m\u001b[0mdestroy\u001b[0m\u001b[1;33m(\u001b[0m\u001b[1;33m)\u001b[0m\u001b[1;33m\u001b[0m\u001b[0m\n\u001b[0m\u001b[0;32m     72\u001b[0m         \u001b[0mgc\u001b[0m\u001b[1;33m.\u001b[0m\u001b[0mcollect\u001b[0m\u001b[1;33m(\u001b[0m\u001b[1;36m1\u001b[0m\u001b[1;33m)\u001b[0m\u001b[1;33m\u001b[0m\u001b[0m\n\u001b[0;32m     73\u001b[0m \u001b[1;33m\u001b[0m\u001b[0m\n",
        "\u001b[1;32mC:\\Users\\Guillaume\\AppData\\Local\\Enthought\\Canopy\\User\\lib\\site-packages\\matplotlib\\backends\\backend_wx.pyc\u001b[0m in \u001b[0;36mdestroy\u001b[1;34m(self, *args)\u001b[0m\n\u001b[0;32m   1432\u001b[0m     \u001b[1;32mdef\u001b[0m \u001b[0mdestroy\u001b[0m\u001b[1;33m(\u001b[0m\u001b[0mself\u001b[0m\u001b[1;33m,\u001b[0m \u001b[1;33m*\u001b[0m\u001b[0margs\u001b[0m\u001b[1;33m)\u001b[0m\u001b[1;33m:\u001b[0m\u001b[1;33m\u001b[0m\u001b[0m\n\u001b[0;32m   1433\u001b[0m         \u001b[0mDEBUG_MSG\u001b[0m\u001b[1;33m(\u001b[0m\u001b[1;34m\"destroy()\"\u001b[0m\u001b[1;33m,\u001b[0m \u001b[1;36m1\u001b[0m\u001b[1;33m,\u001b[0m \u001b[0mself\u001b[0m\u001b[1;33m)\u001b[0m\u001b[1;33m\u001b[0m\u001b[0m\n\u001b[1;32m-> 1434\u001b[1;33m         \u001b[0mself\u001b[0m\u001b[1;33m.\u001b[0m\u001b[0mframe\u001b[0m\u001b[1;33m.\u001b[0m\u001b[0mDestroy\u001b[0m\u001b[1;33m(\u001b[0m\u001b[1;33m)\u001b[0m\u001b[1;33m\u001b[0m\u001b[0m\n\u001b[0m\u001b[0;32m   1435\u001b[0m         \u001b[1;31m#if self.tb is not None: self.tb.Destroy()\u001b[0m\u001b[1;33m\u001b[0m\u001b[1;33m\u001b[0m\u001b[0m\n\u001b[0;32m   1436\u001b[0m         \u001b[1;31m#wx.GetApp().ProcessIdle()\u001b[0m\u001b[1;33m\u001b[0m\u001b[1;33m\u001b[0m\u001b[0m\n",
        "\u001b[1;32mC:\\Users\\Guillaume\\AppData\\Local\\Enthought\\Canopy\\User\\lib\\site-packages\\matplotlib\\backends\\backend_wx.pyc\u001b[0m in \u001b[0;36mDestroy\u001b[1;34m(self, *args, **kwargs)\u001b[0m\n\u001b[0;32m   1397\u001b[0m         \u001b[0mwxapp\u001b[0m \u001b[1;33m=\u001b[0m \u001b[0mwx\u001b[0m\u001b[1;33m.\u001b[0m\u001b[0mGetApp\u001b[0m\u001b[1;33m(\u001b[0m\u001b[1;33m)\u001b[0m\u001b[1;33m\u001b[0m\u001b[0m\n\u001b[0;32m   1398\u001b[0m         \u001b[1;32mif\u001b[0m \u001b[0mwxapp\u001b[0m\u001b[1;33m:\u001b[0m\u001b[1;33m\u001b[0m\u001b[0m\n\u001b[1;32m-> 1399\u001b[1;33m             \u001b[0mwxapp\u001b[0m\u001b[1;33m.\u001b[0m\u001b[0mYield\u001b[0m\u001b[1;33m(\u001b[0m\u001b[1;33m)\u001b[0m\u001b[1;33m\u001b[0m\u001b[0m\n\u001b[0m\u001b[0;32m   1400\u001b[0m         \u001b[1;32mreturn\u001b[0m \u001b[0mTrue\u001b[0m\u001b[1;33m\u001b[0m\u001b[0m\n\u001b[0;32m   1401\u001b[0m \u001b[1;33m\u001b[0m\u001b[0m\n",
        "\u001b[1;32mC:\\Users\\Guillaume\\AppData\\Local\\Enthought\\Canopy\\User\\lib\\site-packages\\wx\\_core.pyc\u001b[0m in \u001b[0;36mYield\u001b[1;34m(*args, **kwargs)\u001b[0m\n\u001b[0;32m   7273\u001b[0m \u001b[1;33m\u001b[0m\u001b[0m\n\u001b[0;32m   7274\u001b[0m         \"\"\"\n\u001b[1;32m-> 7275\u001b[1;33m         \u001b[1;32mreturn\u001b[0m \u001b[0m_core_\u001b[0m\u001b[1;33m.\u001b[0m\u001b[0mPyApp_Yield\u001b[0m\u001b[1;33m(\u001b[0m\u001b[1;33m*\u001b[0m\u001b[0margs\u001b[0m\u001b[1;33m,\u001b[0m \u001b[1;33m**\u001b[0m\u001b[0mkwargs\u001b[0m\u001b[1;33m)\u001b[0m\u001b[1;33m\u001b[0m\u001b[0m\n\u001b[0m\u001b[0;32m   7276\u001b[0m \u001b[1;33m\u001b[0m\u001b[0m\n\u001b[0;32m   7277\u001b[0m     \u001b[1;32mdef\u001b[0m \u001b[0mWakeUpIdle\u001b[0m\u001b[1;33m(\u001b[0m\u001b[1;33m*\u001b[0m\u001b[0margs\u001b[0m\u001b[1;33m,\u001b[0m \u001b[1;33m**\u001b[0m\u001b[0mkwargs\u001b[0m\u001b[1;33m)\u001b[0m\u001b[1;33m:\u001b[0m\u001b[1;33m\u001b[0m\u001b[0m\n",
        "\u001b[1;31mPyAssertionError\u001b[0m: C++ assertion \"wxThread::IsMain()\" failed at ..\\..\\src\\msw\\evtloop.cpp(244) in wxEventLoop::Dispatch(): only the main thread can process Windows messages"
       ]
      },
      {
       "output_type": "stream",
       "stream": "stdout",
       "text": [
        "7 7\n"
       ]
      },
      {
       "ename": "PyAssertionError",
       "evalue": "C++ assertion \"wxThread::IsMain()\" failed at ..\\..\\src\\msw\\evtloop.cpp(244) in wxEventLoop::Dispatch(): only the main thread can process Windows messages",
       "output_type": "pyerr",
       "traceback": [
        "\u001b[1;31m---------------------------------------------------------------------------\u001b[0m\n\u001b[1;31mPyAssertionError\u001b[0m                          Traceback (most recent call last)",
        "\u001b[1;32mC:\\Users\\Guillaume\\AppData\\Local\\Enthought\\Canopy\\User\\lib\\site-packages\\matplotlib\\backends\\backend_wx.pyc\u001b[0m in \u001b[0;36m_onClose\u001b[1;34m(self, evt)\u001b[0m\n\u001b[0;32m   1379\u001b[0m         \u001b[0mself\u001b[0m\u001b[1;33m.\u001b[0m\u001b[0mcanvas\u001b[0m\u001b[1;33m.\u001b[0m\u001b[0mclose_event\u001b[0m\u001b[1;33m(\u001b[0m\u001b[1;33m)\u001b[0m\u001b[1;33m\u001b[0m\u001b[0m\n\u001b[0;32m   1380\u001b[0m         \u001b[0mself\u001b[0m\u001b[1;33m.\u001b[0m\u001b[0mcanvas\u001b[0m\u001b[1;33m.\u001b[0m\u001b[0mstop_event_loop\u001b[0m\u001b[1;33m(\u001b[0m\u001b[1;33m)\u001b[0m\u001b[1;33m\u001b[0m\u001b[0m\n\u001b[1;32m-> 1381\u001b[1;33m         \u001b[0mGcf\u001b[0m\u001b[1;33m.\u001b[0m\u001b[0mdestroy\u001b[0m\u001b[1;33m(\u001b[0m\u001b[0mself\u001b[0m\u001b[1;33m.\u001b[0m\u001b[0mnum\u001b[0m\u001b[1;33m)\u001b[0m\u001b[1;33m\u001b[0m\u001b[0m\n\u001b[0m\u001b[0;32m   1382\u001b[0m         \u001b[1;31m#self.Destroy()\u001b[0m\u001b[1;33m\u001b[0m\u001b[1;33m\u001b[0m\u001b[0m\n\u001b[0;32m   1383\u001b[0m \u001b[1;33m\u001b[0m\u001b[0m\n",
        "\u001b[1;32mC:\\Users\\Guillaume\\AppData\\Local\\Enthought\\Canopy\\User\\lib\\site-packages\\matplotlib\\_pylab_helpers.pyc\u001b[0m in \u001b[0;36mdestroy\u001b[1;34m(num)\u001b[0m\n\u001b[0;32m     69\u001b[0m         \u001b[1;32mdel\u001b[0m \u001b[0mGcf\u001b[0m\u001b[1;33m.\u001b[0m\u001b[0mfigs\u001b[0m\u001b[1;33m[\u001b[0m\u001b[0mnum\u001b[0m\u001b[1;33m]\u001b[0m\u001b[1;33m\u001b[0m\u001b[0m\n\u001b[0;32m     70\u001b[0m         \u001b[1;31m#print len(Gcf.figs.keys()), len(Gcf._activeQue)\u001b[0m\u001b[1;33m\u001b[0m\u001b[1;33m\u001b[0m\u001b[0m\n\u001b[1;32m---> 71\u001b[1;33m         \u001b[0mmanager\u001b[0m\u001b[1;33m.\u001b[0m\u001b[0mdestroy\u001b[0m\u001b[1;33m(\u001b[0m\u001b[1;33m)\u001b[0m\u001b[1;33m\u001b[0m\u001b[0m\n\u001b[0m\u001b[0;32m     72\u001b[0m         \u001b[0mgc\u001b[0m\u001b[1;33m.\u001b[0m\u001b[0mcollect\u001b[0m\u001b[1;33m(\u001b[0m\u001b[1;36m1\u001b[0m\u001b[1;33m)\u001b[0m\u001b[1;33m\u001b[0m\u001b[0m\n\u001b[0;32m     73\u001b[0m \u001b[1;33m\u001b[0m\u001b[0m\n",
        "\u001b[1;32mC:\\Users\\Guillaume\\AppData\\Local\\Enthought\\Canopy\\User\\lib\\site-packages\\matplotlib\\backends\\backend_wx.pyc\u001b[0m in \u001b[0;36mdestroy\u001b[1;34m(self, *args)\u001b[0m\n\u001b[0;32m   1432\u001b[0m     \u001b[1;32mdef\u001b[0m \u001b[0mdestroy\u001b[0m\u001b[1;33m(\u001b[0m\u001b[0mself\u001b[0m\u001b[1;33m,\u001b[0m \u001b[1;33m*\u001b[0m\u001b[0margs\u001b[0m\u001b[1;33m)\u001b[0m\u001b[1;33m:\u001b[0m\u001b[1;33m\u001b[0m\u001b[0m\n\u001b[0;32m   1433\u001b[0m         \u001b[0mDEBUG_MSG\u001b[0m\u001b[1;33m(\u001b[0m\u001b[1;34m\"destroy()\"\u001b[0m\u001b[1;33m,\u001b[0m \u001b[1;36m1\u001b[0m\u001b[1;33m,\u001b[0m \u001b[0mself\u001b[0m\u001b[1;33m)\u001b[0m\u001b[1;33m\u001b[0m\u001b[0m\n\u001b[1;32m-> 1434\u001b[1;33m         \u001b[0mself\u001b[0m\u001b[1;33m.\u001b[0m\u001b[0mframe\u001b[0m\u001b[1;33m.\u001b[0m\u001b[0mDestroy\u001b[0m\u001b[1;33m(\u001b[0m\u001b[1;33m)\u001b[0m\u001b[1;33m\u001b[0m\u001b[0m\n\u001b[0m\u001b[0;32m   1435\u001b[0m         \u001b[1;31m#if self.tb is not None: self.tb.Destroy()\u001b[0m\u001b[1;33m\u001b[0m\u001b[1;33m\u001b[0m\u001b[0m\n\u001b[0;32m   1436\u001b[0m         \u001b[1;31m#wx.GetApp().ProcessIdle()\u001b[0m\u001b[1;33m\u001b[0m\u001b[1;33m\u001b[0m\u001b[0m\n",
        "\u001b[1;32mC:\\Users\\Guillaume\\AppData\\Local\\Enthought\\Canopy\\User\\lib\\site-packages\\matplotlib\\backends\\backend_wx.pyc\u001b[0m in \u001b[0;36mDestroy\u001b[1;34m(self, *args, **kwargs)\u001b[0m\n\u001b[0;32m   1397\u001b[0m         \u001b[0mwxapp\u001b[0m \u001b[1;33m=\u001b[0m \u001b[0mwx\u001b[0m\u001b[1;33m.\u001b[0m\u001b[0mGetApp\u001b[0m\u001b[1;33m(\u001b[0m\u001b[1;33m)\u001b[0m\u001b[1;33m\u001b[0m\u001b[0m\n\u001b[0;32m   1398\u001b[0m         \u001b[1;32mif\u001b[0m \u001b[0mwxapp\u001b[0m\u001b[1;33m:\u001b[0m\u001b[1;33m\u001b[0m\u001b[0m\n\u001b[1;32m-> 1399\u001b[1;33m             \u001b[0mwxapp\u001b[0m\u001b[1;33m.\u001b[0m\u001b[0mYield\u001b[0m\u001b[1;33m(\u001b[0m\u001b[1;33m)\u001b[0m\u001b[1;33m\u001b[0m\u001b[0m\n\u001b[0m\u001b[0;32m   1400\u001b[0m         \u001b[1;32mreturn\u001b[0m \u001b[0mTrue\u001b[0m\u001b[1;33m\u001b[0m\u001b[0m\n\u001b[0;32m   1401\u001b[0m \u001b[1;33m\u001b[0m\u001b[0m\n",
        "\u001b[1;32mC:\\Users\\Guillaume\\AppData\\Local\\Enthought\\Canopy\\User\\lib\\site-packages\\wx\\_core.pyc\u001b[0m in \u001b[0;36mYield\u001b[1;34m(*args, **kwargs)\u001b[0m\n\u001b[0;32m   7273\u001b[0m \u001b[1;33m\u001b[0m\u001b[0m\n\u001b[0;32m   7274\u001b[0m         \"\"\"\n\u001b[1;32m-> 7275\u001b[1;33m         \u001b[1;32mreturn\u001b[0m \u001b[0m_core_\u001b[0m\u001b[1;33m.\u001b[0m\u001b[0mPyApp_Yield\u001b[0m\u001b[1;33m(\u001b[0m\u001b[1;33m*\u001b[0m\u001b[0margs\u001b[0m\u001b[1;33m,\u001b[0m \u001b[1;33m**\u001b[0m\u001b[0mkwargs\u001b[0m\u001b[1;33m)\u001b[0m\u001b[1;33m\u001b[0m\u001b[0m\n\u001b[0m\u001b[0;32m   7276\u001b[0m \u001b[1;33m\u001b[0m\u001b[0m\n\u001b[0;32m   7277\u001b[0m     \u001b[1;32mdef\u001b[0m \u001b[0mWakeUpIdle\u001b[0m\u001b[1;33m(\u001b[0m\u001b[1;33m*\u001b[0m\u001b[0margs\u001b[0m\u001b[1;33m,\u001b[0m \u001b[1;33m**\u001b[0m\u001b[0mkwargs\u001b[0m\u001b[1;33m)\u001b[0m\u001b[1;33m:\u001b[0m\u001b[1;33m\u001b[0m\u001b[0m\n",
        "\u001b[1;31mPyAssertionError\u001b[0m: C++ assertion \"wxThread::IsMain()\" failed at ..\\..\\src\\msw\\evtloop.cpp(244) in wxEventLoop::Dispatch(): only the main thread can process Windows messages"
       ]
      },
      {
       "output_type": "stream",
       "stream": "stdout",
       "text": [
        "7 7\n"
       ]
      },
      {
       "ename": "PyAssertionError",
       "evalue": "C++ assertion \"wxThread::IsMain()\" failed at ..\\..\\src\\msw\\evtloop.cpp(244) in wxEventLoop::Dispatch(): only the main thread can process Windows messages",
       "output_type": "pyerr",
       "traceback": [
        "\u001b[1;31m---------------------------------------------------------------------------\u001b[0m\n\u001b[1;31mPyAssertionError\u001b[0m                          Traceback (most recent call last)",
        "\u001b[1;32mC:\\Users\\Guillaume\\AppData\\Local\\Enthought\\Canopy\\User\\lib\\site-packages\\matplotlib\\backends\\backend_wx.pyc\u001b[0m in \u001b[0;36m_onClose\u001b[1;34m(self, evt)\u001b[0m\n\u001b[0;32m   1379\u001b[0m         \u001b[0mself\u001b[0m\u001b[1;33m.\u001b[0m\u001b[0mcanvas\u001b[0m\u001b[1;33m.\u001b[0m\u001b[0mclose_event\u001b[0m\u001b[1;33m(\u001b[0m\u001b[1;33m)\u001b[0m\u001b[1;33m\u001b[0m\u001b[0m\n\u001b[0;32m   1380\u001b[0m         \u001b[0mself\u001b[0m\u001b[1;33m.\u001b[0m\u001b[0mcanvas\u001b[0m\u001b[1;33m.\u001b[0m\u001b[0mstop_event_loop\u001b[0m\u001b[1;33m(\u001b[0m\u001b[1;33m)\u001b[0m\u001b[1;33m\u001b[0m\u001b[0m\n\u001b[1;32m-> 1381\u001b[1;33m         \u001b[0mGcf\u001b[0m\u001b[1;33m.\u001b[0m\u001b[0mdestroy\u001b[0m\u001b[1;33m(\u001b[0m\u001b[0mself\u001b[0m\u001b[1;33m.\u001b[0m\u001b[0mnum\u001b[0m\u001b[1;33m)\u001b[0m\u001b[1;33m\u001b[0m\u001b[0m\n\u001b[0m\u001b[0;32m   1382\u001b[0m         \u001b[1;31m#self.Destroy()\u001b[0m\u001b[1;33m\u001b[0m\u001b[1;33m\u001b[0m\u001b[0m\n\u001b[0;32m   1383\u001b[0m \u001b[1;33m\u001b[0m\u001b[0m\n",
        "\u001b[1;32mC:\\Users\\Guillaume\\AppData\\Local\\Enthought\\Canopy\\User\\lib\\site-packages\\matplotlib\\_pylab_helpers.pyc\u001b[0m in \u001b[0;36mdestroy\u001b[1;34m(num)\u001b[0m\n\u001b[0;32m     69\u001b[0m         \u001b[1;32mdel\u001b[0m \u001b[0mGcf\u001b[0m\u001b[1;33m.\u001b[0m\u001b[0mfigs\u001b[0m\u001b[1;33m[\u001b[0m\u001b[0mnum\u001b[0m\u001b[1;33m]\u001b[0m\u001b[1;33m\u001b[0m\u001b[0m\n\u001b[0;32m     70\u001b[0m         \u001b[1;31m#print len(Gcf.figs.keys()), len(Gcf._activeQue)\u001b[0m\u001b[1;33m\u001b[0m\u001b[1;33m\u001b[0m\u001b[0m\n\u001b[1;32m---> 71\u001b[1;33m         \u001b[0mmanager\u001b[0m\u001b[1;33m.\u001b[0m\u001b[0mdestroy\u001b[0m\u001b[1;33m(\u001b[0m\u001b[1;33m)\u001b[0m\u001b[1;33m\u001b[0m\u001b[0m\n\u001b[0m\u001b[0;32m     72\u001b[0m         \u001b[0mgc\u001b[0m\u001b[1;33m.\u001b[0m\u001b[0mcollect\u001b[0m\u001b[1;33m(\u001b[0m\u001b[1;36m1\u001b[0m\u001b[1;33m)\u001b[0m\u001b[1;33m\u001b[0m\u001b[0m\n\u001b[0;32m     73\u001b[0m \u001b[1;33m\u001b[0m\u001b[0m\n",
        "\u001b[1;32mC:\\Users\\Guillaume\\AppData\\Local\\Enthought\\Canopy\\User\\lib\\site-packages\\matplotlib\\backends\\backend_wx.pyc\u001b[0m in \u001b[0;36mdestroy\u001b[1;34m(self, *args)\u001b[0m\n\u001b[0;32m   1432\u001b[0m     \u001b[1;32mdef\u001b[0m \u001b[0mdestroy\u001b[0m\u001b[1;33m(\u001b[0m\u001b[0mself\u001b[0m\u001b[1;33m,\u001b[0m \u001b[1;33m*\u001b[0m\u001b[0margs\u001b[0m\u001b[1;33m)\u001b[0m\u001b[1;33m:\u001b[0m\u001b[1;33m\u001b[0m\u001b[0m\n\u001b[0;32m   1433\u001b[0m         \u001b[0mDEBUG_MSG\u001b[0m\u001b[1;33m(\u001b[0m\u001b[1;34m\"destroy()\"\u001b[0m\u001b[1;33m,\u001b[0m \u001b[1;36m1\u001b[0m\u001b[1;33m,\u001b[0m \u001b[0mself\u001b[0m\u001b[1;33m)\u001b[0m\u001b[1;33m\u001b[0m\u001b[0m\n\u001b[1;32m-> 1434\u001b[1;33m         \u001b[0mself\u001b[0m\u001b[1;33m.\u001b[0m\u001b[0mframe\u001b[0m\u001b[1;33m.\u001b[0m\u001b[0mDestroy\u001b[0m\u001b[1;33m(\u001b[0m\u001b[1;33m)\u001b[0m\u001b[1;33m\u001b[0m\u001b[0m\n\u001b[0m\u001b[0;32m   1435\u001b[0m         \u001b[1;31m#if self.tb is not None: self.tb.Destroy()\u001b[0m\u001b[1;33m\u001b[0m\u001b[1;33m\u001b[0m\u001b[0m\n\u001b[0;32m   1436\u001b[0m         \u001b[1;31m#wx.GetApp().ProcessIdle()\u001b[0m\u001b[1;33m\u001b[0m\u001b[1;33m\u001b[0m\u001b[0m\n",
        "\u001b[1;32mC:\\Users\\Guillaume\\AppData\\Local\\Enthought\\Canopy\\User\\lib\\site-packages\\matplotlib\\backends\\backend_wx.pyc\u001b[0m in \u001b[0;36mDestroy\u001b[1;34m(self, *args, **kwargs)\u001b[0m\n\u001b[0;32m   1397\u001b[0m         \u001b[0mwxapp\u001b[0m \u001b[1;33m=\u001b[0m \u001b[0mwx\u001b[0m\u001b[1;33m.\u001b[0m\u001b[0mGetApp\u001b[0m\u001b[1;33m(\u001b[0m\u001b[1;33m)\u001b[0m\u001b[1;33m\u001b[0m\u001b[0m\n\u001b[0;32m   1398\u001b[0m         \u001b[1;32mif\u001b[0m \u001b[0mwxapp\u001b[0m\u001b[1;33m:\u001b[0m\u001b[1;33m\u001b[0m\u001b[0m\n\u001b[1;32m-> 1399\u001b[1;33m             \u001b[0mwxapp\u001b[0m\u001b[1;33m.\u001b[0m\u001b[0mYield\u001b[0m\u001b[1;33m(\u001b[0m\u001b[1;33m)\u001b[0m\u001b[1;33m\u001b[0m\u001b[0m\n\u001b[0m\u001b[0;32m   1400\u001b[0m         \u001b[1;32mreturn\u001b[0m \u001b[0mTrue\u001b[0m\u001b[1;33m\u001b[0m\u001b[0m\n\u001b[0;32m   1401\u001b[0m \u001b[1;33m\u001b[0m\u001b[0m\n",
        "\u001b[1;32mC:\\Users\\Guillaume\\AppData\\Local\\Enthought\\Canopy\\User\\lib\\site-packages\\wx\\_core.pyc\u001b[0m in \u001b[0;36mYield\u001b[1;34m(*args, **kwargs)\u001b[0m\n\u001b[0;32m   7273\u001b[0m \u001b[1;33m\u001b[0m\u001b[0m\n\u001b[0;32m   7274\u001b[0m         \"\"\"\n\u001b[1;32m-> 7275\u001b[1;33m         \u001b[1;32mreturn\u001b[0m \u001b[0m_core_\u001b[0m\u001b[1;33m.\u001b[0m\u001b[0mPyApp_Yield\u001b[0m\u001b[1;33m(\u001b[0m\u001b[1;33m*\u001b[0m\u001b[0margs\u001b[0m\u001b[1;33m,\u001b[0m \u001b[1;33m**\u001b[0m\u001b[0mkwargs\u001b[0m\u001b[1;33m)\u001b[0m\u001b[1;33m\u001b[0m\u001b[0m\n\u001b[0m\u001b[0;32m   7276\u001b[0m \u001b[1;33m\u001b[0m\u001b[0m\n\u001b[0;32m   7277\u001b[0m     \u001b[1;32mdef\u001b[0m \u001b[0mWakeUpIdle\u001b[0m\u001b[1;33m(\u001b[0m\u001b[1;33m*\u001b[0m\u001b[0margs\u001b[0m\u001b[1;33m,\u001b[0m \u001b[1;33m**\u001b[0m\u001b[0mkwargs\u001b[0m\u001b[1;33m)\u001b[0m\u001b[1;33m:\u001b[0m\u001b[1;33m\u001b[0m\u001b[0m\n",
        "\u001b[1;31mPyAssertionError\u001b[0m: C++ assertion \"wxThread::IsMain()\" failed at ..\\..\\src\\msw\\evtloop.cpp(244) in wxEventLoop::Dispatch(): only the main thread can process Windows messages"
       ]
      },
      {
       "output_type": "stream",
       "stream": "stdout",
       "text": [
        "7 7\n"
       ]
      },
      {
       "ename": "PyAssertionError",
       "evalue": "C++ assertion \"wxThread::IsMain()\" failed at ..\\..\\src\\msw\\evtloop.cpp(244) in wxEventLoop::Dispatch(): only the main thread can process Windows messages",
       "output_type": "pyerr",
       "traceback": [
        "\u001b[1;31m---------------------------------------------------------------------------\u001b[0m\n\u001b[1;31mPyAssertionError\u001b[0m                          Traceback (most recent call last)",
        "\u001b[1;32mC:\\Users\\Guillaume\\AppData\\Local\\Enthought\\Canopy\\User\\lib\\site-packages\\matplotlib\\backends\\backend_wx.pyc\u001b[0m in \u001b[0;36m_onClose\u001b[1;34m(self, evt)\u001b[0m\n\u001b[0;32m   1379\u001b[0m         \u001b[0mself\u001b[0m\u001b[1;33m.\u001b[0m\u001b[0mcanvas\u001b[0m\u001b[1;33m.\u001b[0m\u001b[0mclose_event\u001b[0m\u001b[1;33m(\u001b[0m\u001b[1;33m)\u001b[0m\u001b[1;33m\u001b[0m\u001b[0m\n\u001b[0;32m   1380\u001b[0m         \u001b[0mself\u001b[0m\u001b[1;33m.\u001b[0m\u001b[0mcanvas\u001b[0m\u001b[1;33m.\u001b[0m\u001b[0mstop_event_loop\u001b[0m\u001b[1;33m(\u001b[0m\u001b[1;33m)\u001b[0m\u001b[1;33m\u001b[0m\u001b[0m\n\u001b[1;32m-> 1381\u001b[1;33m         \u001b[0mGcf\u001b[0m\u001b[1;33m.\u001b[0m\u001b[0mdestroy\u001b[0m\u001b[1;33m(\u001b[0m\u001b[0mself\u001b[0m\u001b[1;33m.\u001b[0m\u001b[0mnum\u001b[0m\u001b[1;33m)\u001b[0m\u001b[1;33m\u001b[0m\u001b[0m\n\u001b[0m\u001b[0;32m   1382\u001b[0m         \u001b[1;31m#self.Destroy()\u001b[0m\u001b[1;33m\u001b[0m\u001b[1;33m\u001b[0m\u001b[0m\n\u001b[0;32m   1383\u001b[0m \u001b[1;33m\u001b[0m\u001b[0m\n",
        "\u001b[1;32mC:\\Users\\Guillaume\\AppData\\Local\\Enthought\\Canopy\\User\\lib\\site-packages\\matplotlib\\_pylab_helpers.pyc\u001b[0m in \u001b[0;36mdestroy\u001b[1;34m(num)\u001b[0m\n\u001b[0;32m     69\u001b[0m         \u001b[1;32mdel\u001b[0m \u001b[0mGcf\u001b[0m\u001b[1;33m.\u001b[0m\u001b[0mfigs\u001b[0m\u001b[1;33m[\u001b[0m\u001b[0mnum\u001b[0m\u001b[1;33m]\u001b[0m\u001b[1;33m\u001b[0m\u001b[0m\n\u001b[0;32m     70\u001b[0m         \u001b[1;31m#print len(Gcf.figs.keys()), len(Gcf._activeQue)\u001b[0m\u001b[1;33m\u001b[0m\u001b[1;33m\u001b[0m\u001b[0m\n\u001b[1;32m---> 71\u001b[1;33m         \u001b[0mmanager\u001b[0m\u001b[1;33m.\u001b[0m\u001b[0mdestroy\u001b[0m\u001b[1;33m(\u001b[0m\u001b[1;33m)\u001b[0m\u001b[1;33m\u001b[0m\u001b[0m\n\u001b[0m\u001b[0;32m     72\u001b[0m         \u001b[0mgc\u001b[0m\u001b[1;33m.\u001b[0m\u001b[0mcollect\u001b[0m\u001b[1;33m(\u001b[0m\u001b[1;36m1\u001b[0m\u001b[1;33m)\u001b[0m\u001b[1;33m\u001b[0m\u001b[0m\n\u001b[0;32m     73\u001b[0m \u001b[1;33m\u001b[0m\u001b[0m\n",
        "\u001b[1;32mC:\\Users\\Guillaume\\AppData\\Local\\Enthought\\Canopy\\User\\lib\\site-packages\\matplotlib\\backends\\backend_wx.pyc\u001b[0m in \u001b[0;36mdestroy\u001b[1;34m(self, *args)\u001b[0m\n\u001b[0;32m   1432\u001b[0m     \u001b[1;32mdef\u001b[0m \u001b[0mdestroy\u001b[0m\u001b[1;33m(\u001b[0m\u001b[0mself\u001b[0m\u001b[1;33m,\u001b[0m \u001b[1;33m*\u001b[0m\u001b[0margs\u001b[0m\u001b[1;33m)\u001b[0m\u001b[1;33m:\u001b[0m\u001b[1;33m\u001b[0m\u001b[0m\n\u001b[0;32m   1433\u001b[0m         \u001b[0mDEBUG_MSG\u001b[0m\u001b[1;33m(\u001b[0m\u001b[1;34m\"destroy()\"\u001b[0m\u001b[1;33m,\u001b[0m \u001b[1;36m1\u001b[0m\u001b[1;33m,\u001b[0m \u001b[0mself\u001b[0m\u001b[1;33m)\u001b[0m\u001b[1;33m\u001b[0m\u001b[0m\n\u001b[1;32m-> 1434\u001b[1;33m         \u001b[0mself\u001b[0m\u001b[1;33m.\u001b[0m\u001b[0mframe\u001b[0m\u001b[1;33m.\u001b[0m\u001b[0mDestroy\u001b[0m\u001b[1;33m(\u001b[0m\u001b[1;33m)\u001b[0m\u001b[1;33m\u001b[0m\u001b[0m\n\u001b[0m\u001b[0;32m   1435\u001b[0m         \u001b[1;31m#if self.tb is not None: self.tb.Destroy()\u001b[0m\u001b[1;33m\u001b[0m\u001b[1;33m\u001b[0m\u001b[0m\n\u001b[0;32m   1436\u001b[0m         \u001b[1;31m#wx.GetApp().ProcessIdle()\u001b[0m\u001b[1;33m\u001b[0m\u001b[1;33m\u001b[0m\u001b[0m\n",
        "\u001b[1;32mC:\\Users\\Guillaume\\AppData\\Local\\Enthought\\Canopy\\User\\lib\\site-packages\\matplotlib\\backends\\backend_wx.pyc\u001b[0m in \u001b[0;36mDestroy\u001b[1;34m(self, *args, **kwargs)\u001b[0m\n\u001b[0;32m   1397\u001b[0m         \u001b[0mwxapp\u001b[0m \u001b[1;33m=\u001b[0m \u001b[0mwx\u001b[0m\u001b[1;33m.\u001b[0m\u001b[0mGetApp\u001b[0m\u001b[1;33m(\u001b[0m\u001b[1;33m)\u001b[0m\u001b[1;33m\u001b[0m\u001b[0m\n\u001b[0;32m   1398\u001b[0m         \u001b[1;32mif\u001b[0m \u001b[0mwxapp\u001b[0m\u001b[1;33m:\u001b[0m\u001b[1;33m\u001b[0m\u001b[0m\n\u001b[1;32m-> 1399\u001b[1;33m             \u001b[0mwxapp\u001b[0m\u001b[1;33m.\u001b[0m\u001b[0mYield\u001b[0m\u001b[1;33m(\u001b[0m\u001b[1;33m)\u001b[0m\u001b[1;33m\u001b[0m\u001b[0m\n\u001b[0m\u001b[0;32m   1400\u001b[0m         \u001b[1;32mreturn\u001b[0m \u001b[0mTrue\u001b[0m\u001b[1;33m\u001b[0m\u001b[0m\n\u001b[0;32m   1401\u001b[0m \u001b[1;33m\u001b[0m\u001b[0m\n",
        "\u001b[1;32mC:\\Users\\Guillaume\\AppData\\Local\\Enthought\\Canopy\\User\\lib\\site-packages\\wx\\_core.pyc\u001b[0m in \u001b[0;36mYield\u001b[1;34m(*args, **kwargs)\u001b[0m\n\u001b[0;32m   7273\u001b[0m \u001b[1;33m\u001b[0m\u001b[0m\n\u001b[0;32m   7274\u001b[0m         \"\"\"\n\u001b[1;32m-> 7275\u001b[1;33m         \u001b[1;32mreturn\u001b[0m \u001b[0m_core_\u001b[0m\u001b[1;33m.\u001b[0m\u001b[0mPyApp_Yield\u001b[0m\u001b[1;33m(\u001b[0m\u001b[1;33m*\u001b[0m\u001b[0margs\u001b[0m\u001b[1;33m,\u001b[0m \u001b[1;33m**\u001b[0m\u001b[0mkwargs\u001b[0m\u001b[1;33m)\u001b[0m\u001b[1;33m\u001b[0m\u001b[0m\n\u001b[0m\u001b[0;32m   7276\u001b[0m \u001b[1;33m\u001b[0m\u001b[0m\n\u001b[0;32m   7277\u001b[0m     \u001b[1;32mdef\u001b[0m \u001b[0mWakeUpIdle\u001b[0m\u001b[1;33m(\u001b[0m\u001b[1;33m*\u001b[0m\u001b[0margs\u001b[0m\u001b[1;33m,\u001b[0m \u001b[1;33m**\u001b[0m\u001b[0mkwargs\u001b[0m\u001b[1;33m)\u001b[0m\u001b[1;33m:\u001b[0m\u001b[1;33m\u001b[0m\u001b[0m\n",
        "\u001b[1;31mPyAssertionError\u001b[0m: C++ assertion \"wxThread::IsMain()\" failed at ..\\..\\src\\msw\\evtloop.cpp(244) in wxEventLoop::Dispatch(): only the main thread can process Windows messages"
       ]
      },
      {
       "output_type": "stream",
       "stream": "stdout",
       "text": [
        "9 9\n"
       ]
      }
     ],
     "prompt_number": 14
    },
    {
     "cell_type": "code",
     "collapsed": false,
     "input": [
      "###############################################################################\n",
      "# Plotting 1st RBM hidden layer's weight matrix\n",
      "\n",
      "plt.figure(figsize=(4.2, 4))\n",
      "for i, comp in enumerate(rbm.components_):\n",
      "    plt.subplot(hidden_layer_width, hidden_layer_width, i + 1)\n",
      "    plt.imshow(comp.reshape((perceptron_width, perceptron_width)), cmap=plt.cm.gray_r,\n",
      "               interpolation='nearest')\n",
      "    plt.xticks(())\n",
      "    plt.yticks(())\n",
      "plt.suptitle(\"RBM's {} hidden layer's weights matrixes\".format(hidden_layer_count), fontsize=16)\n",
      "plt.subplots_adjust(0.08, 0.02, 0.92, 0.85, 0.08, 0.23)\n",
      "\n",
      "plt.show()\n"
     ],
     "language": "python",
     "metadata": {},
     "outputs": []
    },
    {
     "cell_type": "code",
     "collapsed": false,
     "input": [],
     "language": "python",
     "metadata": {},
     "outputs": []
    },
    {
     "cell_type": "code",
     "collapsed": false,
     "input": [],
     "language": "python",
     "metadata": {},
     "outputs": []
    },
    {
     "cell_type": "code",
     "collapsed": false,
     "input": [
      "def max_pooling_prediction(grayscale_img, classifier):\n",
      "    imgs = nudge_image(grayscale_img)\n",
      "\n",
      "    def get_confidences_and_prediction(img, classifier):\n",
      "        \"\"\"\n",
      "        Returns the best confidence, the other confidences\n",
      "        and the prection from the best confidence. \n",
      "        \"\"\"\n",
      "        prediction = classifier.predict(img.flatten())[0]\n",
      "        decision_function_vals = classifier.decision_function(img.flatten())[0]\n",
      "        confidence = np.amax(decision_function_vals)\n",
      "        assert prediction == np.argmax(decision_function_vals), (\n",
      "            \"Is not the prediction supposed to take the most confident label association?\")\n",
      "        return confidence, decision_function_vals, prediction\n",
      "\n",
      "    parallel_confidences = []\n",
      "    parallel_decision_function_vals = []\n",
      "    parallel_predictions = []\n",
      "\n",
      "    for img in imgs:\n",
      "        tmp = get_confidences_and_prediction(img, classifier)\n",
      "        parallel_confidences.append(tmp[0])\n",
      "        parallel_decision_function_vals.append(tmp[1])\n",
      "        parallel_predictions.append(tmp[2])\n",
      "\n",
      "    best_nudged_index = np.argmax(parallel_confidences)\n",
      "    prediction = parallel_predictions[best_nudged_index]\n",
      "    decision_function_vals = parallel_decision_function_vals[best_nudged_index]\n",
      "    max_confidence = decision_function_vals[prediction]\n",
      "    best_nudged_img = imgs[best_nudged_index]\n",
      "    \n",
      "    return (prediction, decision_function_vals, max_confidence, best_nudged_img)\n",
      "\n",
      "img = X_test[1]\n",
      "print(max_pooling_prediction(img, classifier))"
     ],
     "language": "python",
     "metadata": {},
     "outputs": []
    },
    {
     "cell_type": "code",
     "collapsed": false,
     "input": [],
     "language": "python",
     "metadata": {},
     "outputs": []
    },
    {
     "cell_type": "code",
     "collapsed": false,
     "input": [],
     "language": "python",
     "metadata": {},
     "outputs": []
    },
    {
     "cell_type": "code",
     "collapsed": false,
     "input": [],
     "language": "python",
     "metadata": {},
     "outputs": []
    },
    {
     "cell_type": "code",
     "collapsed": false,
     "input": [],
     "language": "python",
     "metadata": {},
     "outputs": []
    }
   ],
   "metadata": {}
  }
 ]
}